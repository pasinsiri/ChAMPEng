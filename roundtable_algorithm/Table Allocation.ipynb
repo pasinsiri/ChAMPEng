{
 "cells": [
  {
   "cell_type": "code",
   "execution_count": 1,
   "metadata": {},
   "outputs": [],
   "source": [
    "import pandas as pd\n",
    "import numpy as np"
   ]
  },
  {
   "cell_type": "markdown",
   "metadata": {},
   "source": [
    "<p style='color: red;'>Important Note!<p> Do not forget to change the maximum capacity of each cluster."
   ]
  },
  {
   "cell_type": "code",
   "execution_count": 2,
   "metadata": {},
   "outputs": [],
   "source": [
    "raw = pd.read_csv('Data/raw_test.csv')"
   ]
  },
  {
   "cell_type": "code",
   "execution_count": 3,
   "metadata": {},
   "outputs": [
    {
     "data": {
      "text/html": [
       "<div>\n",
       "<style scoped>\n",
       "    .dataframe tbody tr th:only-of-type {\n",
       "        vertical-align: middle;\n",
       "    }\n",
       "\n",
       "    .dataframe tbody tr th {\n",
       "        vertical-align: top;\n",
       "    }\n",
       "\n",
       "    .dataframe thead th {\n",
       "        text-align: right;\n",
       "    }\n",
       "</style>\n",
       "<table border=\"1\" class=\"dataframe\">\n",
       "  <thead>\n",
       "    <tr style=\"text-align: right;\">\n",
       "      <th></th>\n",
       "      <th>ประทับเวลา</th>\n",
       "      <th>ชื่อ (Name)</th>\n",
       "      <th>นามสกุล (Last Name)</th>\n",
       "      <th>ชื่อเล่น (Nickname)</th>\n",
       "      <th>รหัสนิสิต (Student ID)</th>\n",
       "      <th>เบอร์โทรศัพท์ (Phone Number)</th>\n",
       "      <th>E-mail</th>\n",
       "      <th>ภาควิชา (Department)</th>\n",
       "      <th>1st Priority</th>\n",
       "      <th>2nd Priority</th>\n",
       "      <th>3rd Priority</th>\n",
       "      <th>4th Priority</th>\n",
       "      <th>5th Priority</th>\n",
       "    </tr>\n",
       "  </thead>\n",
       "  <tbody>\n",
       "    <tr>\n",
       "      <th>0</th>\n",
       "      <td>2563/10/30 8:43:15 หลังเที่ยง GMT+7</td>\n",
       "      <td>Test</td>\n",
       "      <td>Test</td>\n",
       "      <td>Tes</td>\n",
       "      <td>Iikjbbn09888&amp;</td>\n",
       "      <td>814025465</td>\n",
       "      <td>Hhk</td>\n",
       "      <td>Mining and Petroleum Engineering</td>\n",
       "      <td>Engineer : R&amp;D Engineer</td>\n",
       "      <td>Business : Entrepreneur/Startups</td>\n",
       "      <td>Technology : Developer/Programmer</td>\n",
       "      <td>Business : Business Developer (BD) / Managemen...</td>\n",
       "      <td>Engineer : Production/Process/Plant Engineer</td>\n",
       "    </tr>\n",
       "    <tr>\n",
       "      <th>1</th>\n",
       "      <td>2563/10/30 9:02:21 หลังเที่ยง GMT+7</td>\n",
       "      <td>สาโรช</td>\n",
       "      <td>คุณวุฒิพร</td>\n",
       "      <td>ป๋วย</td>\n",
       "      <td>53304796211,&amp;:&amp;</td>\n",
       "      <td>819212399</td>\n",
       "      <td>กวพรกน</td>\n",
       "      <td>ภาควิชาวิศวกรรมแหล่งน้ำ</td>\n",
       "      <td>Technology : AI Researcher/Data Engineer</td>\n",
       "      <td>Technology : AI Researcher/Data Engineer</td>\n",
       "      <td>Technology : AI Researcher/Data Engineer</td>\n",
       "      <td>Technology : AI Researcher/Data Engineer</td>\n",
       "      <td>Technology : AI Researcher/Data Engineer</td>\n",
       "    </tr>\n",
       "  </tbody>\n",
       "</table>\n",
       "</div>"
      ],
      "text/plain": [
       "                            ประทับเวลา ชื่อ (Name) นามสกุล (Last Name)  \\\n",
       "0  2563/10/30 8:43:15 หลังเที่ยง GMT+7        Test                Test   \n",
       "1  2563/10/30 9:02:21 หลังเที่ยง GMT+7       สาโรช           คุณวุฒิพร   \n",
       "\n",
       "  ชื่อเล่น (Nickname) รหัสนิสิต (Student ID)  เบอร์โทรศัพท์ (Phone Number)  \\\n",
       "0                 Tes          Iikjbbn09888&                     814025465   \n",
       "1                ป๋วย        53304796211,&:&                     819212399   \n",
       "\n",
       "   E-mail              ภาควิชา (Department)  \\\n",
       "0     Hhk  Mining and Petroleum Engineering   \n",
       "1  กวพรกน           ภาควิชาวิศวกรรมแหล่งน้ำ   \n",
       "\n",
       "                               1st Priority  \\\n",
       "0                   Engineer : R&D Engineer   \n",
       "1  Technology : AI Researcher/Data Engineer   \n",
       "\n",
       "                               2nd Priority  \\\n",
       "0          Business : Entrepreneur/Startups   \n",
       "1  Technology : AI Researcher/Data Engineer   \n",
       "\n",
       "                               3rd Priority  \\\n",
       "0         Technology : Developer/Programmer   \n",
       "1  Technology : AI Researcher/Data Engineer   \n",
       "\n",
       "                                        4th Priority  \\\n",
       "0  Business : Business Developer (BD) / Managemen...   \n",
       "1           Technology : AI Researcher/Data Engineer   \n",
       "\n",
       "                                   5th Priority  \n",
       "0  Engineer : Production/Process/Plant Engineer  \n",
       "1      Technology : AI Researcher/Data Engineer  "
      ]
     },
     "execution_count": 3,
     "metadata": {},
     "output_type": "execute_result"
    }
   ],
   "source": [
    "raw.head()"
   ]
  },
  {
   "cell_type": "code",
   "execution_count": 4,
   "metadata": {},
   "outputs": [],
   "source": [
    "# Cluster List\n",
    "clusters = [\n",
    "    'Business : Business/Management Consultant',\n",
    "    'Business : Business Developer (BD) / Management Trainee',\n",
    "    'Business : Data Analyst',\n",
    "    'Business : Entrepreneur/Startups',\n",
    "    'Business : Investment Strategist',\n",
    "    'Technology : AI Researcher/Data Engineer',\n",
    "    'Technology : Developer/Programmer',\n",
    "    'Technology : Project Manager/Product Owner',\n",
    "    'Engineer : R&D Engineer',\n",
    "    'Engineer : Production/Process/Plant Engineer'\n",
    "]"
   ]
  },
  {
   "cell_type": "code",
   "execution_count": 5,
   "metadata": {},
   "outputs": [],
   "source": [
    "# Create a capacity dict which defines maximum number of each\n",
    "# cluster in each round\n",
    "capacity_list = [2,3,2,4,2,5,5,3,8,2] # edit later\n",
    "assert len(clusters) == len(capacity_list)\n",
    "capacity = dict()\n",
    "for c, max_no in zip(clusters, capacity_list):\n",
    "    capacity[c] = max_no\n",
    "    \n",
    "#capacity"
   ]
  },
  {
   "cell_type": "code",
   "execution_count": 7,
   "metadata": {},
   "outputs": [],
   "source": [
    "names = raw[['ชื่อ (Name)', 'นามสกุล (Last Name)', 'ชื่อเล่น (Nickname)',\n",
    "             'รหัสนิสิต (Student ID)', 'เบอร์โทรศัพท์ (Phone Number)',\n",
    "             'E-mail', 'ภาควิชา (Department)']]\n",
    "#names.columns = ['name', 'surname', 'nickname', 'ID', 'tel',\n",
    "#                 'email', 'department']\n",
    "names.set_index('รหัสนิสิต (Student ID)', inplace=True)\n",
    "\n",
    "ranks = raw[['รหัสนิสิต (Student ID)', '1st Priority', '2nd Priority',\n",
    "             '3rd Priority', '4th Priority', '5th Priority']]\n",
    "ranks.columns = ['ID', 'r1', 'r2', 'r3', 'r4', 'r5']\n",
    "ranks.set_index('ID', inplace=True)"
   ]
  },
  {
   "cell_type": "code",
   "execution_count": 8,
   "metadata": {},
   "outputs": [],
   "source": [
    "# Create a time-slot dict which states if an applicant is still\n",
    "# vacant in a specific time-slot\n",
    "# Note that True means vacant and False means not vacant\n",
    "vacant_dict = dict()\n",
    "for app in ranks.index:\n",
    "    vacant_dict[app] = [True, True, True]\n",
    "#vacant_dict"
   ]
  },
  {
   "cell_type": "markdown",
   "metadata": {},
   "source": [
    "<h2>Algorithm:</h2><br>\n",
    "We will create a dict with clusters as keys and three lists of applicants who are selected to be in such a cluster. Each list represents each round of the roundtable session."
   ]
  },
  {
   "cell_type": "code",
   "execution_count": 9,
   "metadata": {},
   "outputs": [],
   "source": [
    "rt_dict = dict()\n",
    "for c in clusters:\n",
    "    rt_dict[c] = [[], [], []]"
   ]
  },
  {
   "cell_type": "code",
   "execution_count": 10,
   "metadata": {},
   "outputs": [],
   "source": [
    "for col in ranks.columns: # [r1, ... , r5]\n",
    "    for app in ranks.index:\n",
    "        # Check if an applicant is already assigned to three\n",
    "        # clusters. If so, pass\n",
    "        if vacant_dict[app] == [False, False, False]:\n",
    "            pass\n",
    "        \n",
    "        cluster = ranks.loc[app, col]\n",
    "        \n",
    "        # If the first round is vacant, put this applicant\n",
    "        # in the first round\n",
    "        if len(rt_dict[cluster][0]) < capacity[cluster] and vacant_dict[app][0]:\n",
    "            rt_dict[cluster][0].append(app)\n",
    "            vacant_dict[app][0] = False\n",
    "        \n",
    "        # Else, if the second round is vacant, put this applicant\n",
    "        # in the second round\n",
    "        elif len(rt_dict[cluster][1]) < capacity[cluster] and vacant_dict[app][1]:\n",
    "            rt_dict[cluster][1].append(app)\n",
    "            vacant_dict[app][1] = False\n",
    "            \n",
    "        # Else, if the third round is vacant, put him in\n",
    "        elif len(rt_dict[cluster][2]) < capacity[cluster] and vacant_dict[app][2]:\n",
    "            rt_dict[cluster][2].append(app)\n",
    "            vacant_dict[app][2] = False"
   ]
  },
  {
   "cell_type": "code",
   "execution_count": 11,
   "metadata": {},
   "outputs": [
    {
     "data": {
      "text/plain": [
       "{'Business : Business/Management Consultant': [[], [], []],\n",
       " 'Business : Business Developer (BD) / Management Trainee': [[], [], []],\n",
       " 'Business : Data Analyst': [[], [], []],\n",
       " 'Business : Entrepreneur/Startups': [[], ['Iikjbbn09888&'], []],\n",
       " 'Business : Investment Strategist': [[], [], []],\n",
       " 'Technology : AI Researcher/Data Engineer': [['53304796211,&:&'],\n",
       "  ['53304796211,&:&'],\n",
       "  ['53304796211,&:&']],\n",
       " 'Technology : Developer/Programmer': [[], [], ['Iikjbbn09888&']],\n",
       " 'Technology : Project Manager/Product Owner': [[], [], []],\n",
       " 'Engineer : R&D Engineer': [['Iikjbbn09888&'], [], []],\n",
       " 'Engineer : Production/Process/Plant Engineer': [[], [], []]}"
      ]
     },
     "execution_count": 11,
     "metadata": {},
     "output_type": "execute_result"
    }
   ],
   "source": [
    "rt_dict"
   ]
  },
  {
   "cell_type": "markdown",
   "metadata": {},
   "source": [
    "## Convert the result to a DataFrame"
   ]
  },
  {
   "cell_type": "code",
   "execution_count": 12,
   "metadata": {},
   "outputs": [],
   "source": [
    "rounds = pd.DataFrame(index=ranks.index)\n",
    "\n",
    "for cluster in rt_dict:\n",
    "    for i in range(len(rt_dict[cluster])):\n",
    "        column_to_insert = 'Round {}'.format(str(i + 1))\n",
    "        rounds.loc[rt_dict[cluster][i], column_to_insert] = cluster"
   ]
  },
  {
   "cell_type": "code",
   "execution_count": 13,
   "metadata": {},
   "outputs": [
    {
     "data": {
      "text/html": [
       "<div>\n",
       "<style scoped>\n",
       "    .dataframe tbody tr th:only-of-type {\n",
       "        vertical-align: middle;\n",
       "    }\n",
       "\n",
       "    .dataframe tbody tr th {\n",
       "        vertical-align: top;\n",
       "    }\n",
       "\n",
       "    .dataframe thead th {\n",
       "        text-align: right;\n",
       "    }\n",
       "</style>\n",
       "<table border=\"1\" class=\"dataframe\">\n",
       "  <thead>\n",
       "    <tr style=\"text-align: right;\">\n",
       "      <th></th>\n",
       "      <th>Round 1</th>\n",
       "      <th>Round 2</th>\n",
       "      <th>Round 3</th>\n",
       "    </tr>\n",
       "    <tr>\n",
       "      <th>ID</th>\n",
       "      <th></th>\n",
       "      <th></th>\n",
       "      <th></th>\n",
       "    </tr>\n",
       "  </thead>\n",
       "  <tbody>\n",
       "    <tr>\n",
       "      <th>Iikjbbn09888&amp;</th>\n",
       "      <td>Engineer : R&amp;D Engineer</td>\n",
       "      <td>Business : Entrepreneur/Startups</td>\n",
       "      <td>Technology : Developer/Programmer</td>\n",
       "    </tr>\n",
       "    <tr>\n",
       "      <th>53304796211,&amp;:&amp;</th>\n",
       "      <td>Technology : AI Researcher/Data Engineer</td>\n",
       "      <td>Technology : AI Researcher/Data Engineer</td>\n",
       "      <td>Technology : AI Researcher/Data Engineer</td>\n",
       "    </tr>\n",
       "  </tbody>\n",
       "</table>\n",
       "</div>"
      ],
      "text/plain": [
       "                                                  Round 1  \\\n",
       "ID                                                          \n",
       "Iikjbbn09888&                     Engineer : R&D Engineer   \n",
       "53304796211,&:&  Technology : AI Researcher/Data Engineer   \n",
       "\n",
       "                                                  Round 2  \\\n",
       "ID                                                          \n",
       "Iikjbbn09888&            Business : Entrepreneur/Startups   \n",
       "53304796211,&:&  Technology : AI Researcher/Data Engineer   \n",
       "\n",
       "                                                  Round 3  \n",
       "ID                                                         \n",
       "Iikjbbn09888&           Technology : Developer/Programmer  \n",
       "53304796211,&:&  Technology : AI Researcher/Data Engineer  "
      ]
     },
     "execution_count": 13,
     "metadata": {},
     "output_type": "execute_result"
    }
   ],
   "source": [
    "rounds"
   ]
  },
  {
   "cell_type": "code",
   "execution_count": 14,
   "metadata": {
    "scrolled": true
   },
   "outputs": [
    {
     "data": {
      "text/html": [
       "<div>\n",
       "<style scoped>\n",
       "    .dataframe tbody tr th:only-of-type {\n",
       "        vertical-align: middle;\n",
       "    }\n",
       "\n",
       "    .dataframe tbody tr th {\n",
       "        vertical-align: top;\n",
       "    }\n",
       "\n",
       "    .dataframe thead th {\n",
       "        text-align: right;\n",
       "    }\n",
       "</style>\n",
       "<table border=\"1\" class=\"dataframe\">\n",
       "  <thead>\n",
       "    <tr style=\"text-align: right;\">\n",
       "      <th></th>\n",
       "      <th>ชื่อ (Name)</th>\n",
       "      <th>นามสกุล (Last Name)</th>\n",
       "      <th>ชื่อเล่น (Nickname)</th>\n",
       "      <th>เบอร์โทรศัพท์ (Phone Number)</th>\n",
       "      <th>E-mail</th>\n",
       "      <th>ภาควิชา (Department)</th>\n",
       "      <th>Round 1</th>\n",
       "      <th>Round 2</th>\n",
       "      <th>Round 3</th>\n",
       "    </tr>\n",
       "  </thead>\n",
       "  <tbody>\n",
       "    <tr>\n",
       "      <th>Iikjbbn09888&amp;</th>\n",
       "      <td>Test</td>\n",
       "      <td>Test</td>\n",
       "      <td>Tes</td>\n",
       "      <td>814025465</td>\n",
       "      <td>Hhk</td>\n",
       "      <td>Mining and Petroleum Engineering</td>\n",
       "      <td>Engineer : R&amp;D Engineer</td>\n",
       "      <td>Business : Entrepreneur/Startups</td>\n",
       "      <td>Technology : Developer/Programmer</td>\n",
       "    </tr>\n",
       "    <tr>\n",
       "      <th>53304796211,&amp;:&amp;</th>\n",
       "      <td>สาโรช</td>\n",
       "      <td>คุณวุฒิพร</td>\n",
       "      <td>ป๋วย</td>\n",
       "      <td>819212399</td>\n",
       "      <td>กวพรกน</td>\n",
       "      <td>ภาควิชาวิศวกรรมแหล่งน้ำ</td>\n",
       "      <td>Technology : AI Researcher/Data Engineer</td>\n",
       "      <td>Technology : AI Researcher/Data Engineer</td>\n",
       "      <td>Technology : AI Researcher/Data Engineer</td>\n",
       "    </tr>\n",
       "  </tbody>\n",
       "</table>\n",
       "</div>"
      ],
      "text/plain": [
       "                ชื่อ (Name) นามสกุล (Last Name) ชื่อเล่น (Nickname)  \\\n",
       "Iikjbbn09888&          Test                Test                 Tes   \n",
       "53304796211,&:&       สาโรช           คุณวุฒิพร                ป๋วย   \n",
       "\n",
       "                 เบอร์โทรศัพท์ (Phone Number)  E-mail  \\\n",
       "Iikjbbn09888&                       814025465     Hhk   \n",
       "53304796211,&:&                     819212399  กวพรกน   \n",
       "\n",
       "                             ภาควิชา (Department)  \\\n",
       "Iikjbbn09888&    Mining and Petroleum Engineering   \n",
       "53304796211,&:&           ภาควิชาวิศวกรรมแหล่งน้ำ   \n",
       "\n",
       "                                                  Round 1  \\\n",
       "Iikjbbn09888&                     Engineer : R&D Engineer   \n",
       "53304796211,&:&  Technology : AI Researcher/Data Engineer   \n",
       "\n",
       "                                                  Round 2  \\\n",
       "Iikjbbn09888&            Business : Entrepreneur/Startups   \n",
       "53304796211,&:&  Technology : AI Researcher/Data Engineer   \n",
       "\n",
       "                                                  Round 3  \n",
       "Iikjbbn09888&           Technology : Developer/Programmer  \n",
       "53304796211,&:&  Technology : AI Researcher/Data Engineer  "
      ]
     },
     "execution_count": 14,
     "metadata": {},
     "output_type": "execute_result"
    }
   ],
   "source": [
    "final_df = names.merge(rounds, how = 'inner', left_index = True,\n",
    "                       right_index = True)\n",
    "final_df"
   ]
  },
  {
   "cell_type": "markdown",
   "metadata": {},
   "source": [
    "# Checking"
   ]
  },
  {
   "cell_type": "markdown",
   "metadata": {},
   "source": [
    "Check if everyone joins in their first preferred room."
   ]
  },
  {
   "cell_type": "code",
   "execution_count": 17,
   "metadata": {},
   "outputs": [
    {
     "data": {
      "text/plain": [
       "ID\n",
       "Iikjbbn09888&                       Engineer : R&D Engineer\n",
       "53304796211,&:&    Technology : AI Researcher/Data Engineer\n",
       "Name: r1, dtype: object"
      ]
     },
     "execution_count": 17,
     "metadata": {},
     "output_type": "execute_result"
    }
   ],
   "source": [
    "first = ranks['r1']\n",
    "first"
   ]
  },
  {
   "cell_type": "code",
   "execution_count": 29,
   "metadata": {},
   "outputs": [],
   "source": [
    "for app in first.index:\n",
    "    assigned_clusters = rounds.loc[app, ['Round 1', 'Round 2', 'Round 3']].tolist()\n",
    "    if first.loc[app] not in assigned_clusters:\n",
    "        print(app)\n",
    "        \n",
    "# note that this should print nothing"
   ]
  },
  {
   "cell_type": "code",
   "execution_count": 30,
   "metadata": {},
   "outputs": [],
   "source": [
    "# Save the result\n",
    "#final_df.to_csv('Data/final.csv')"
   ]
  },
  {
   "cell_type": "code",
   "execution_count": null,
   "metadata": {},
   "outputs": [],
   "source": []
  }
 ],
 "metadata": {
  "kernelspec": {
   "display_name": "Python 3",
   "language": "python",
   "name": "python3"
  },
  "language_info": {
   "codemirror_mode": {
    "name": "ipython",
    "version": 3
   },
   "file_extension": ".py",
   "mimetype": "text/x-python",
   "name": "python",
   "nbconvert_exporter": "python",
   "pygments_lexer": "ipython3",
   "version": "3.7.6"
  }
 },
 "nbformat": 4,
 "nbformat_minor": 4
}
