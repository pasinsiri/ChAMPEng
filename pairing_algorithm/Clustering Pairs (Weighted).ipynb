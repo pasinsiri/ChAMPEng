{
 "cells": [
  {
   "cell_type": "code",
   "execution_count": 1,
   "metadata": {
    "scrolled": true
   },
   "outputs": [],
   "source": [
    "# ls"
   ]
  },
  {
   "cell_type": "code",
   "execution_count": 1,
   "metadata": {},
   "outputs": [],
   "source": [
    "# Parameters\n",
    "INPUT_FILE = './data/champ6_raw.csv'\n",
    "MAX_ORDER = 10\n",
    "# SCORE_LIST = [13,8,5,3,2,1,1,1,1,1]\n",
    "SCORE_LIST = [8,5,3,2,1,0,0,0,0,0]\n",
    "# SCORE_LIST = [8,5,3,2,1,1,1,1,1,1]\n",
    "\n",
    "assert len(SCORE_LIST) == MAX_ORDER"
   ]
  },
  {
   "cell_type": "code",
   "execution_count": 2,
   "metadata": {},
   "outputs": [],
   "source": [
    "import pandas as pd\n",
    "import numpy as np\n",
    "import matplotlib.pyplot as plt\n",
    "import seaborn as sns\n",
    "\n",
    "from scipy.cluster import hierarchy\n",
    "from sklearn.cluster import AgglomerativeClustering"
   ]
  },
  {
   "cell_type": "code",
   "execution_count": 3,
   "metadata": {},
   "outputs": [],
   "source": [
    "# ประทับเวลา\tที่อยู่อีเมล\tชื่อ-นามสกุล ภาษาไทย\tชื่อเล่น\tรหัสนิสิต\tชั้นปี\tPair ที่สนใจลำดับที่ 1\tPair ที่สนใจลำดับที่ 2\tPair ที่สนใจลำดับที่ 3\tPair ที่สนใจลำดับที่ 4\tPair ที่สนใจลำดับที่ 5\tPair ที่สนใจลำดับที่ 6\tPair ที่สนใจลำดับที่ 7\tPair ที่สนใจลำดับที่ 8\tPair ที่สนใจลำดับที่ 9\tPair ที่สนใจลำดับที่ 10\n",
    "COLUMNS = ['timestamp', 'email', 'name_th', 'nickname', 'id', 'year']\n",
    "RANK_COLS = [f'rank_{i}' for i in range(1, 11)]"
   ]
  },
  {
   "cell_type": "code",
   "execution_count": 4,
   "metadata": {},
   "outputs": [],
   "source": [
    "def replace_nan(data):\n",
    "    \"\"\"Replace NaN Value\n",
    "        If a column contains numerical value, replace it with 0.\n",
    "        Otherwise, replace it with 'UNKNOWN'\"\"\"\n",
    "    \n",
    "    df = data.copy()\n",
    "    for col in df.columns:\n",
    "        if df[col].dtype in ['int64', 'float64']:\n",
    "            df[col].fillna(0, inplace = True)\n",
    "        else:\n",
    "            df[col].fillna('UNKNOWN', inplace = True)\n",
    "    return df\n",
    "\n",
    "def tier_multiply(score, tier):\n",
    "    \"\"\"Multiply scores of each candidate by his/her respective tier\n",
    "    \"\"\"\n",
    "    new = score.copy()\n",
    "    new['tier'] = tier\n",
    "    new = new.apply(lambda x: x * x['tier'])\n",
    "    return new"
   ]
  },
  {
   "cell_type": "code",
   "execution_count": 5,
   "metadata": {
    "scrolled": true
   },
   "outputs": [
    {
     "data": {
      "text/html": [
       "<div>\n",
       "<style scoped>\n",
       "    .dataframe tbody tr th:only-of-type {\n",
       "        vertical-align: middle;\n",
       "    }\n",
       "\n",
       "    .dataframe tbody tr th {\n",
       "        vertical-align: top;\n",
       "    }\n",
       "\n",
       "    .dataframe thead th {\n",
       "        text-align: right;\n",
       "    }\n",
       "</style>\n",
       "<table border=\"1\" class=\"dataframe\">\n",
       "  <thead>\n",
       "    <tr style=\"text-align: right;\">\n",
       "      <th></th>\n",
       "      <th>id</th>\n",
       "      <th>rank_1</th>\n",
       "      <th>rank_2</th>\n",
       "      <th>rank_3</th>\n",
       "      <th>rank_4</th>\n",
       "      <th>rank_5</th>\n",
       "      <th>rank_6</th>\n",
       "      <th>rank_7</th>\n",
       "      <th>rank_8</th>\n",
       "      <th>rank_9</th>\n",
       "      <th>rank_10</th>\n",
       "    </tr>\n",
       "  </thead>\n",
       "  <tbody>\n",
       "    <tr>\n",
       "      <th>0</th>\n",
       "      <td>6531301721</td>\n",
       "      <td>Pair 7: คุณกฤตภาส สิริภัสสร (พี่ก้อง), คุณอภิน...</td>\n",
       "      <td>Pair 9: คุณพิชิต พงษ์ประเสริฐ (พี่ไปรท์), คุณว...</td>\n",
       "      <td>Pair 11: ดร.ศรุต วานิชพันธ์ุ (พี่รัมย์), คุณเป...</td>\n",
       "      <td>Pair 8: คุณไพโรจน์ กวียานันท์ (พี่บูน), คุณปัญ...</td>\n",
       "      <td>Pair 12: คุณศิริวัฒน์ วงศ์จารุกร (พี่เล้ง), คุ...</td>\n",
       "      <td>Pair 13: คุณวรภัทร ชวนะนิกุล (พี่เบนซ์), คุณวี...</td>\n",
       "      <td>Pair 2: คุณอดิศัย ธรรมร่มดี(พี่แซม), ดร.ชวพล จ...</td>\n",
       "      <td>Pair 17: คุณรัชดา ด่านพงษ์เจริญ (พี่อ้อ), คุณร...</td>\n",
       "      <td>Pair 3: นายอครินทร์ ภูรีสิทธิ์ (พี่ต้น), คุณถึ...</td>\n",
       "      <td>Pair 14: คุณชลิยา จุลโมกข์ สุชาโต (พี่แนท), คุ...</td>\n",
       "    </tr>\n",
       "    <tr>\n",
       "      <th>1</th>\n",
       "      <td>6338202321</td>\n",
       "      <td>Pair 12: คุณศิริวัฒน์ วงศ์จารุกร (พี่เล้ง), คุ...</td>\n",
       "      <td>Pair 9: คุณพิชิต พงษ์ประเสริฐ (พี่ไปรท์), คุณว...</td>\n",
       "      <td>Pair 14: คุณชลิยา จุลโมกข์ สุชาโต (พี่แนท), คุ...</td>\n",
       "      <td>Pair 15: คุณปกรณ์ ธรรมภิมุขวัฒนา (พี่เหน่ง), ค...</td>\n",
       "      <td>Pair 1: คุณจีรวัฒน์ สิทธิ์สันต์กุล (พี่เจมส์ จ...</td>\n",
       "      <td>Pair 2: คุณอดิศัย ธรรมร่มดี(พี่แซม), ดร.ชวพล จ...</td>\n",
       "      <td>Pair 3: นายอครินทร์ ภูรีสิทธิ์ (พี่ต้น), คุณถึ...</td>\n",
       "      <td>Pair 4: คุณปพนธ์ มังคละธนะกุล (พี่ปะ), คุณกวีว...</td>\n",
       "      <td>Pair 5: คุณสุรัตน์ ประลองศิลป์ (พี่ปู), คุณโทน...</td>\n",
       "      <td>Pair 6: คุณสุธี อัสววิมล (พี่โหน่ง), คุณกิตติธ...</td>\n",
       "    </tr>\n",
       "  </tbody>\n",
       "</table>\n",
       "</div>"
      ],
      "text/plain": [
       "           id                                             rank_1  \\\n",
       "0  6531301721  Pair 7: คุณกฤตภาส สิริภัสสร (พี่ก้อง), คุณอภิน...   \n",
       "1  6338202321  Pair 12: คุณศิริวัฒน์ วงศ์จารุกร (พี่เล้ง), คุ...   \n",
       "\n",
       "                                              rank_2  \\\n",
       "0  Pair 9: คุณพิชิต พงษ์ประเสริฐ (พี่ไปรท์), คุณว...   \n",
       "1  Pair 9: คุณพิชิต พงษ์ประเสริฐ (พี่ไปรท์), คุณว...   \n",
       "\n",
       "                                              rank_3  \\\n",
       "0  Pair 11: ดร.ศรุต วานิชพันธ์ุ (พี่รัมย์), คุณเป...   \n",
       "1  Pair 14: คุณชลิยา จุลโมกข์ สุชาโต (พี่แนท), คุ...   \n",
       "\n",
       "                                              rank_4  \\\n",
       "0  Pair 8: คุณไพโรจน์ กวียานันท์ (พี่บูน), คุณปัญ...   \n",
       "1  Pair 15: คุณปกรณ์ ธรรมภิมุขวัฒนา (พี่เหน่ง), ค...   \n",
       "\n",
       "                                              rank_5  \\\n",
       "0  Pair 12: คุณศิริวัฒน์ วงศ์จารุกร (พี่เล้ง), คุ...   \n",
       "1  Pair 1: คุณจีรวัฒน์ สิทธิ์สันต์กุล (พี่เจมส์ จ...   \n",
       "\n",
       "                                              rank_6  \\\n",
       "0  Pair 13: คุณวรภัทร ชวนะนิกุล (พี่เบนซ์), คุณวี...   \n",
       "1  Pair 2: คุณอดิศัย ธรรมร่มดี(พี่แซม), ดร.ชวพล จ...   \n",
       "\n",
       "                                              rank_7  \\\n",
       "0  Pair 2: คุณอดิศัย ธรรมร่มดี(พี่แซม), ดร.ชวพล จ...   \n",
       "1  Pair 3: นายอครินทร์ ภูรีสิทธิ์ (พี่ต้น), คุณถึ...   \n",
       "\n",
       "                                              rank_8  \\\n",
       "0  Pair 17: คุณรัชดา ด่านพงษ์เจริญ (พี่อ้อ), คุณร...   \n",
       "1  Pair 4: คุณปพนธ์ มังคละธนะกุล (พี่ปะ), คุณกวีว...   \n",
       "\n",
       "                                              rank_9  \\\n",
       "0  Pair 3: นายอครินทร์ ภูรีสิทธิ์ (พี่ต้น), คุณถึ...   \n",
       "1  Pair 5: คุณสุรัตน์ ประลองศิลป์ (พี่ปู), คุณโทน...   \n",
       "\n",
       "                                             rank_10  \n",
       "0  Pair 14: คุณชลิยา จุลโมกข์ สุชาโต (พี่แนท), คุ...  \n",
       "1  Pair 6: คุณสุธี อัสววิมล (พี่โหน่ง), คุณกิตติธ...  "
      ]
     },
     "execution_count": 5,
     "metadata": {},
     "output_type": "execute_result"
    }
   ],
   "source": [
    "pre_df = pd.read_csv(INPUT_FILE)\n",
    "pre_df.columns = COLUMNS + RANK_COLS\n",
    "# pre_df.set_index('id', inplace=True)\n",
    "meta_df = pre_df.loc[:, COLUMNS].set_index('id')\n",
    "rank_df = pre_df.loc[:, ['id'] + RANK_COLS] #.set_index('id')\n",
    "# tier = pre_df.pop('tier')\n",
    "# tier.index = pre_df.ID\n",
    "# tier.head()\n",
    "# pre_df.head()\n",
    "rank_df.head(2)"
   ]
  },
  {
   "cell_type": "code",
   "execution_count": 33,
   "metadata": {},
   "outputs": [
    {
     "data": {
      "text/html": [
       "<div>\n",
       "<style scoped>\n",
       "    .dataframe tbody tr th:only-of-type {\n",
       "        vertical-align: middle;\n",
       "    }\n",
       "\n",
       "    .dataframe tbody tr th {\n",
       "        vertical-align: top;\n",
       "    }\n",
       "\n",
       "    .dataframe thead th {\n",
       "        text-align: right;\n",
       "    }\n",
       "</style>\n",
       "<table border=\"1\" class=\"dataframe\">\n",
       "  <thead>\n",
       "    <tr style=\"text-align: right;\">\n",
       "      <th></th>\n",
       "      <th>id</th>\n",
       "      <th>rank_1</th>\n",
       "      <th>rank_2</th>\n",
       "      <th>rank_3</th>\n",
       "      <th>rank_4</th>\n",
       "      <th>rank_5</th>\n",
       "      <th>rank_6</th>\n",
       "      <th>rank_7</th>\n",
       "      <th>rank_8</th>\n",
       "      <th>rank_9</th>\n",
       "      <th>rank_10</th>\n",
       "    </tr>\n",
       "  </thead>\n",
       "  <tbody>\n",
       "  </tbody>\n",
       "</table>\n",
       "</div>"
      ],
      "text/plain": [
       "Empty DataFrame\n",
       "Columns: [id, rank_1, rank_2, rank_3, rank_4, rank_5, rank_6, rank_7, rank_8, rank_9, rank_10]\n",
       "Index: []"
      ]
     },
     "execution_count": 33,
     "metadata": {},
     "output_type": "execute_result"
    }
   ],
   "source": [
    "rank_df[rank_df.index == '6330002721']"
   ]
  },
  {
   "cell_type": "code",
   "execution_count": 6,
   "metadata": {},
   "outputs": [
    {
     "data": {
      "text/html": [
       "<div>\n",
       "<style scoped>\n",
       "    .dataframe tbody tr th:only-of-type {\n",
       "        vertical-align: middle;\n",
       "    }\n",
       "\n",
       "    .dataframe tbody tr th {\n",
       "        vertical-align: top;\n",
       "    }\n",
       "\n",
       "    .dataframe thead th {\n",
       "        text-align: right;\n",
       "    }\n",
       "</style>\n",
       "<table border=\"1\" class=\"dataframe\">\n",
       "  <thead>\n",
       "    <tr style=\"text-align: right;\">\n",
       "      <th></th>\n",
       "      <th>v1</th>\n",
       "      <th>v2</th>\n",
       "      <th>n_att</th>\n",
       "    </tr>\n",
       "  </thead>\n",
       "  <tbody>\n",
       "    <tr>\n",
       "      <th>61</th>\n",
       "      <td>Pair 2: คุณอดิศัย ธรรมร่มดี(พี่แซม), ดร.ชวพล จ...</td>\n",
       "      <td>Pair 4: คุณปพนธ์ มังคละธนะกุล (พี่ปะ), คุณกวีว...</td>\n",
       "      <td>9</td>\n",
       "    </tr>\n",
       "    <tr>\n",
       "      <th>87</th>\n",
       "      <td>Pair 6: คุณสุธี อัสววิมล (พี่โหน่ง), คุณกิตติธ...</td>\n",
       "      <td>Pair 10: คุณวชิระชัย คูนำวัฒนา (พี่โจโจ้), คุณ...</td>\n",
       "      <td>6</td>\n",
       "    </tr>\n",
       "    <tr>\n",
       "      <th>97</th>\n",
       "      <td>Pair 7: คุณกฤตภาส สิริภัสสร (พี่ก้อง), คุณอภิน...</td>\n",
       "      <td>Pair 12: คุณศิริวัฒน์ วงศ์จารุกร (พี่เล้ง), คุ...</td>\n",
       "      <td>5</td>\n",
       "    </tr>\n",
       "    <tr>\n",
       "      <th>63</th>\n",
       "      <td>Pair 2: คุณอดิศัย ธรรมร่มดี(พี่แซม), ดร.ชวพล จ...</td>\n",
       "      <td>Pair 6: คุณสุธี อัสววิมล (พี่โหน่ง), คุณกิตติธ...</td>\n",
       "      <td>5</td>\n",
       "    </tr>\n",
       "    <tr>\n",
       "      <th>62</th>\n",
       "      <td>Pair 2: คุณอดิศัย ธรรมร่มดี(พี่แซม), ดร.ชวพล จ...</td>\n",
       "      <td>Pair 5: คุณสุรัตน์ ประลองศิลป์ (พี่ปู), คุณโทน...</td>\n",
       "      <td>5</td>\n",
       "    </tr>\n",
       "    <tr>\n",
       "      <th>14</th>\n",
       "      <td>Pair 13: คุณวรภัทร ชวนะนิกุล (พี่เบนซ์), คุณวี...</td>\n",
       "      <td>Pair 17: คุณรัชดา ด่านพงษ์เจริญ (พี่อ้อ), คุณร...</td>\n",
       "      <td>4</td>\n",
       "    </tr>\n",
       "    <tr>\n",
       "      <th>99</th>\n",
       "      <td>Pair 7: คุณกฤตภาส สิริภัสสร (พี่ก้อง), คุณอภิน...</td>\n",
       "      <td>Pair 15: คุณปกรณ์ ธรรมภิมุขวัฒนา (พี่เหน่ง), ค...</td>\n",
       "      <td>4</td>\n",
       "    </tr>\n",
       "    <tr>\n",
       "      <th>83</th>\n",
       "      <td>Pair 4: คุณปพนธ์ มังคละธนะกุล (พี่ปะ), คุณกวีว...</td>\n",
       "      <td>Pair 6: คุณสุธี อัสววิมล (พี่โหน่ง), คุณกิตติธ...</td>\n",
       "      <td>4</td>\n",
       "    </tr>\n",
       "    <tr>\n",
       "      <th>80</th>\n",
       "      <td>Pair 4: คุณปพนธ์ มังคละธนะกุล (พี่ปะ), คุณกวีว...</td>\n",
       "      <td>Pair 2: คุณอดิศัย ธรรมร่มดี(พี่แซม), ดร.ชวพล จ...</td>\n",
       "      <td>4</td>\n",
       "    </tr>\n",
       "    <tr>\n",
       "      <th>56</th>\n",
       "      <td>Pair 2: คุณอดิศัย ธรรมร่มดี(พี่แซม), ดร.ชวพล จ...</td>\n",
       "      <td>Pair 11: ดร.ศรุต วานิชพันธ์ุ (พี่รัมย์), คุณเป...</td>\n",
       "      <td>4</td>\n",
       "    </tr>\n",
       "    <tr>\n",
       "      <th>0</th>\n",
       "      <td>Pair 10: คุณวชิระชัย คูนำวัฒนา (พี่โจโจ้), คุณ...</td>\n",
       "      <td>Pair 11: ดร.ศรุต วานิชพันธ์ุ (พี่รัมย์), คุณเป...</td>\n",
       "      <td>3</td>\n",
       "    </tr>\n",
       "    <tr>\n",
       "      <th>21</th>\n",
       "      <td>Pair 14: คุณชลิยา จุลโมกข์ สุชาโต (พี่แนท), คุ...</td>\n",
       "      <td>Pair 1: คุณจีรวัฒน์ สิทธิ์สันต์กุล (พี่เจมส์ จ...</td>\n",
       "      <td>3</td>\n",
       "    </tr>\n",
       "    <tr>\n",
       "      <th>49</th>\n",
       "      <td>Pair 1: คุณจีรวัฒน์ สิทธิ์สันต์กุล (พี่เจมส์ จ...</td>\n",
       "      <td>Pair 18: คุณมณฑิชา ด่านชลวิจิตร (พี่เก้), คุณธ...</td>\n",
       "      <td>3</td>\n",
       "    </tr>\n",
       "    <tr>\n",
       "      <th>102</th>\n",
       "      <td>Pair 7: คุณกฤตภาส สิริภัสสร (พี่ก้อง), คุณอภิน...</td>\n",
       "      <td>Pair 1: คุณจีรวัฒน์ สิทธิ์สันต์กุล (พี่เจมส์ จ...</td>\n",
       "      <td>3</td>\n",
       "    </tr>\n",
       "    <tr>\n",
       "      <th>104</th>\n",
       "      <td>Pair 7: คุณกฤตภาส สิริภัสสร (พี่ก้อง), คุณอภิน...</td>\n",
       "      <td>Pair 3: นายอครินทร์ ภูรีสิทธิ์ (พี่ต้น), คุณถึ...</td>\n",
       "      <td>3</td>\n",
       "    </tr>\n",
       "    <tr>\n",
       "      <th>19</th>\n",
       "      <td>Pair 13: คุณวรภัทร ชวนะนิกุล (พี่เบนซ์), คุณวี...</td>\n",
       "      <td>Pair 5: คุณสุรัตน์ ประลองศิลป์ (พี่ปู), คุณโทน...</td>\n",
       "      <td>3</td>\n",
       "    </tr>\n",
       "    <tr>\n",
       "      <th>44</th>\n",
       "      <td>Pair 18: คุณมณฑิชา ด่านชลวิจิตร (พี่เก้), คุณธ...</td>\n",
       "      <td>Pair 15: คุณปกรณ์ ธรรมภิมุขวัฒนา (พี่เหน่ง), ค...</td>\n",
       "      <td>3</td>\n",
       "    </tr>\n",
       "    <tr>\n",
       "      <th>42</th>\n",
       "      <td>Pair 18: คุณมณฑิชา ด่านชลวิจิตร (พี่เก้), คุณธ...</td>\n",
       "      <td>Pair 11: ดร.ศรุต วานิชพันธ์ุ (พี่รัมย์), คุณเป...</td>\n",
       "      <td>3</td>\n",
       "    </tr>\n",
       "    <tr>\n",
       "      <th>50</th>\n",
       "      <td>Pair 1: คุณจีรวัฒน์ สิทธิ์สันต์กุล (พี่เจมส์ จ...</td>\n",
       "      <td>Pair 2: คุณอดิศัย ธรรมร่มดี(พี่แซม), ดร.ชวพล จ...</td>\n",
       "      <td>3</td>\n",
       "    </tr>\n",
       "    <tr>\n",
       "      <th>93</th>\n",
       "      <td>Pair 6: คุณสุธี อัสววิมล (พี่โหน่ง), คุณกิตติธ...</td>\n",
       "      <td>Pair 7: คุณกฤตภาส สิริภัสสร (พี่ก้อง), คุณอภิน...</td>\n",
       "      <td>3</td>\n",
       "    </tr>\n",
       "    <tr>\n",
       "      <th>18</th>\n",
       "      <td>Pair 13: คุณวรภัทร ชวนะนิกุล (พี่เบนซ์), คุณวี...</td>\n",
       "      <td>Pair 4: คุณปพนธ์ มังคละธนะกุล (พี่ปะ), คุณกวีว...</td>\n",
       "      <td>3</td>\n",
       "    </tr>\n",
       "    <tr>\n",
       "      <th>96</th>\n",
       "      <td>Pair 7: คุณกฤตภาส สิริภัสสร (พี่ก้อง), คุณอภิน...</td>\n",
       "      <td>Pair 11: ดร.ศรุต วานิชพันธ์ุ (พี่รัมย์), คุณเป...</td>\n",
       "      <td>3</td>\n",
       "    </tr>\n",
       "    <tr>\n",
       "      <th>108</th>\n",
       "      <td>Pair 7: คุณกฤตภาส สิริภัสสร (พี่ก้อง), คุณอภิน...</td>\n",
       "      <td>Pair 8: คุณไพโรจน์ กวียานันท์ (พี่บูน), คุณปัญ...</td>\n",
       "      <td>3</td>\n",
       "    </tr>\n",
       "    <tr>\n",
       "      <th>60</th>\n",
       "      <td>Pair 2: คุณอดิศัย ธรรมร่มดี(พี่แซม), ดร.ชวพล จ...</td>\n",
       "      <td>Pair 1: คุณจีรวัฒน์ สิทธิ์สันต์กุล (พี่เจมส์ จ...</td>\n",
       "      <td>3</td>\n",
       "    </tr>\n",
       "    <tr>\n",
       "      <th>69</th>\n",
       "      <td>Pair 3: นายอครินทร์ ภูรีสิทธิ์ (พี่ต้น), คุณถึ...</td>\n",
       "      <td>Pair 18: คุณมณฑิชา ด่านชลวิจิตร (พี่เก้), คุณธ...</td>\n",
       "      <td>3</td>\n",
       "    </tr>\n",
       "    <tr>\n",
       "      <th>55</th>\n",
       "      <td>Pair 2: คุณอดิศัย ธรรมร่มดี(พี่แซม), ดร.ชวพล จ...</td>\n",
       "      <td>Pair 10: คุณวชิระชัย คูนำวัฒนา (พี่โจโจ้), คุณ...</td>\n",
       "      <td>2</td>\n",
       "    </tr>\n",
       "    <tr>\n",
       "      <th>48</th>\n",
       "      <td>Pair 1: คุณจีรวัฒน์ สิทธิ์สันต์กุล (พี่เจมส์ จ...</td>\n",
       "      <td>Pair 14: คุณชลิยา จุลโมกข์ สุชาโต (พี่แนท), คุ...</td>\n",
       "      <td>2</td>\n",
       "    </tr>\n",
       "    <tr>\n",
       "      <th>47</th>\n",
       "      <td>Pair 1: คุณจีรวัฒน์ สิทธิ์สันต์กุล (พี่เจมส์ จ...</td>\n",
       "      <td>Pair 12: คุณศิริวัฒน์ วงศ์จารุกร (พี่เล้ง), คุ...</td>\n",
       "      <td>2</td>\n",
       "    </tr>\n",
       "    <tr>\n",
       "      <th>81</th>\n",
       "      <td>Pair 4: คุณปพนธ์ มังคละธนะกุล (พี่ปะ), คุณกวีว...</td>\n",
       "      <td>Pair 3: นายอครินทร์ ภูรีสิทธิ์ (พี่ต้น), คุณถึ...</td>\n",
       "      <td>2</td>\n",
       "    </tr>\n",
       "    <tr>\n",
       "      <th>64</th>\n",
       "      <td>Pair 2: คุณอดิศัย ธรรมร่มดี(พี่แซม), ดร.ชวพล จ...</td>\n",
       "      <td>Pair 7: คุณกฤตภาส สิริภัสสร (พี่ก้อง), คุณอภิน...</td>\n",
       "      <td>2</td>\n",
       "    </tr>\n",
       "  </tbody>\n",
       "</table>\n",
       "</div>"
      ],
      "text/plain": [
       "                                                    v1  \\\n",
       "61   Pair 2: คุณอดิศัย ธรรมร่มดี(พี่แซม), ดร.ชวพล จ...   \n",
       "87   Pair 6: คุณสุธี อัสววิมล (พี่โหน่ง), คุณกิตติธ...   \n",
       "97   Pair 7: คุณกฤตภาส สิริภัสสร (พี่ก้อง), คุณอภิน...   \n",
       "63   Pair 2: คุณอดิศัย ธรรมร่มดี(พี่แซม), ดร.ชวพล จ...   \n",
       "62   Pair 2: คุณอดิศัย ธรรมร่มดี(พี่แซม), ดร.ชวพล จ...   \n",
       "14   Pair 13: คุณวรภัทร ชวนะนิกุล (พี่เบนซ์), คุณวี...   \n",
       "99   Pair 7: คุณกฤตภาส สิริภัสสร (พี่ก้อง), คุณอภิน...   \n",
       "83   Pair 4: คุณปพนธ์ มังคละธนะกุล (พี่ปะ), คุณกวีว...   \n",
       "80   Pair 4: คุณปพนธ์ มังคละธนะกุล (พี่ปะ), คุณกวีว...   \n",
       "56   Pair 2: คุณอดิศัย ธรรมร่มดี(พี่แซม), ดร.ชวพล จ...   \n",
       "0    Pair 10: คุณวชิระชัย คูนำวัฒนา (พี่โจโจ้), คุณ...   \n",
       "21   Pair 14: คุณชลิยา จุลโมกข์ สุชาโต (พี่แนท), คุ...   \n",
       "49   Pair 1: คุณจีรวัฒน์ สิทธิ์สันต์กุล (พี่เจมส์ จ...   \n",
       "102  Pair 7: คุณกฤตภาส สิริภัสสร (พี่ก้อง), คุณอภิน...   \n",
       "104  Pair 7: คุณกฤตภาส สิริภัสสร (พี่ก้อง), คุณอภิน...   \n",
       "19   Pair 13: คุณวรภัทร ชวนะนิกุล (พี่เบนซ์), คุณวี...   \n",
       "44   Pair 18: คุณมณฑิชา ด่านชลวิจิตร (พี่เก้), คุณธ...   \n",
       "42   Pair 18: คุณมณฑิชา ด่านชลวิจิตร (พี่เก้), คุณธ...   \n",
       "50   Pair 1: คุณจีรวัฒน์ สิทธิ์สันต์กุล (พี่เจมส์ จ...   \n",
       "93   Pair 6: คุณสุธี อัสววิมล (พี่โหน่ง), คุณกิตติธ...   \n",
       "18   Pair 13: คุณวรภัทร ชวนะนิกุล (พี่เบนซ์), คุณวี...   \n",
       "96   Pair 7: คุณกฤตภาส สิริภัสสร (พี่ก้อง), คุณอภิน...   \n",
       "108  Pair 7: คุณกฤตภาส สิริภัสสร (พี่ก้อง), คุณอภิน...   \n",
       "60   Pair 2: คุณอดิศัย ธรรมร่มดี(พี่แซม), ดร.ชวพล จ...   \n",
       "69   Pair 3: นายอครินทร์ ภูรีสิทธิ์ (พี่ต้น), คุณถึ...   \n",
       "55   Pair 2: คุณอดิศัย ธรรมร่มดี(พี่แซม), ดร.ชวพล จ...   \n",
       "48   Pair 1: คุณจีรวัฒน์ สิทธิ์สันต์กุล (พี่เจมส์ จ...   \n",
       "47   Pair 1: คุณจีรวัฒน์ สิทธิ์สันต์กุล (พี่เจมส์ จ...   \n",
       "81   Pair 4: คุณปพนธ์ มังคละธนะกุล (พี่ปะ), คุณกวีว...   \n",
       "64   Pair 2: คุณอดิศัย ธรรมร่มดี(พี่แซม), ดร.ชวพล จ...   \n",
       "\n",
       "                                                    v2  n_att  \n",
       "61   Pair 4: คุณปพนธ์ มังคละธนะกุล (พี่ปะ), คุณกวีว...      9  \n",
       "87   Pair 10: คุณวชิระชัย คูนำวัฒนา (พี่โจโจ้), คุณ...      6  \n",
       "97   Pair 12: คุณศิริวัฒน์ วงศ์จารุกร (พี่เล้ง), คุ...      5  \n",
       "63   Pair 6: คุณสุธี อัสววิมล (พี่โหน่ง), คุณกิตติธ...      5  \n",
       "62   Pair 5: คุณสุรัตน์ ประลองศิลป์ (พี่ปู), คุณโทน...      5  \n",
       "14   Pair 17: คุณรัชดา ด่านพงษ์เจริญ (พี่อ้อ), คุณร...      4  \n",
       "99   Pair 15: คุณปกรณ์ ธรรมภิมุขวัฒนา (พี่เหน่ง), ค...      4  \n",
       "83   Pair 6: คุณสุธี อัสววิมล (พี่โหน่ง), คุณกิตติธ...      4  \n",
       "80   Pair 2: คุณอดิศัย ธรรมร่มดี(พี่แซม), ดร.ชวพล จ...      4  \n",
       "56   Pair 11: ดร.ศรุต วานิชพันธ์ุ (พี่รัมย์), คุณเป...      4  \n",
       "0    Pair 11: ดร.ศรุต วานิชพันธ์ุ (พี่รัมย์), คุณเป...      3  \n",
       "21   Pair 1: คุณจีรวัฒน์ สิทธิ์สันต์กุล (พี่เจมส์ จ...      3  \n",
       "49   Pair 18: คุณมณฑิชา ด่านชลวิจิตร (พี่เก้), คุณธ...      3  \n",
       "102  Pair 1: คุณจีรวัฒน์ สิทธิ์สันต์กุล (พี่เจมส์ จ...      3  \n",
       "104  Pair 3: นายอครินทร์ ภูรีสิทธิ์ (พี่ต้น), คุณถึ...      3  \n",
       "19   Pair 5: คุณสุรัตน์ ประลองศิลป์ (พี่ปู), คุณโทน...      3  \n",
       "44   Pair 15: คุณปกรณ์ ธรรมภิมุขวัฒนา (พี่เหน่ง), ค...      3  \n",
       "42   Pair 11: ดร.ศรุต วานิชพันธ์ุ (พี่รัมย์), คุณเป...      3  \n",
       "50   Pair 2: คุณอดิศัย ธรรมร่มดี(พี่แซม), ดร.ชวพล จ...      3  \n",
       "93   Pair 7: คุณกฤตภาส สิริภัสสร (พี่ก้อง), คุณอภิน...      3  \n",
       "18   Pair 4: คุณปพนธ์ มังคละธนะกุล (พี่ปะ), คุณกวีว...      3  \n",
       "96   Pair 11: ดร.ศรุต วานิชพันธ์ุ (พี่รัมย์), คุณเป...      3  \n",
       "108  Pair 8: คุณไพโรจน์ กวียานันท์ (พี่บูน), คุณปัญ...      3  \n",
       "60   Pair 1: คุณจีรวัฒน์ สิทธิ์สันต์กุล (พี่เจมส์ จ...      3  \n",
       "69   Pair 18: คุณมณฑิชา ด่านชลวิจิตร (พี่เก้), คุณธ...      3  \n",
       "55   Pair 10: คุณวชิระชัย คูนำวัฒนา (พี่โจโจ้), คุณ...      2  \n",
       "48   Pair 14: คุณชลิยา จุลโมกข์ สุชาโต (พี่แนท), คุ...      2  \n",
       "47   Pair 12: คุณศิริวัฒน์ วงศ์จารุกร (พี่เล้ง), คุ...      2  \n",
       "81   Pair 3: นายอครินทร์ ภูรีสิทธิ์ (พี่ต้น), คุณถึ...      2  \n",
       "64   Pair 7: คุณกฤตภาส สิริภัสสร (พี่ก้อง), คุณอภิน...      2  "
      ]
     },
     "execution_count": 6,
     "metadata": {},
     "output_type": "execute_result"
    }
   ],
   "source": [
    "# top pairs of pairs\n",
    "# rank_df.groupby(['rank_1', 'rank_2'])['id'].nunique()\n",
    "pairs_list = [['rank_1', 'rank_2'], ['rank_1', 'rank_3']]\n",
    "top_ranks = []\n",
    "for pairs in pairs_list:\n",
    "    tmp = rank_df.loc[:, ['id'] + pairs]\n",
    "    # tmp['v1'] = tmp[pairs].min(axis=1)\n",
    "    # tmp['v2'] = tmp[pairs].max(axis=1)\n",
    "    tmp['v1'] = tmp[pairs[0]]\n",
    "    tmp['v2'] = tmp[pairs[1]]\n",
    "    top_ranks.append(tmp[['id', 'v1', 'v2']])\n",
    "\n",
    "top_ranks_df = pd.concat(top_ranks, axis=0)\n",
    "# top_ranks_df.head()\n",
    "top_ranks_count = top_ranks_df.groupby(['v1', 'v2'])[['id']].count().reset_index() \\\n",
    "                .rename(columns={'id': 'n_att'})\n",
    "top_ranks_count.sort_values(by='n_att', ascending=False).head(30)"
   ]
  },
  {
   "cell_type": "code",
   "execution_count": 7,
   "metadata": {},
   "outputs": [],
   "source": [
    "# n = 18\n",
    "# top_ranks_count[(top_ranks_count['v1'].str.contains(f'Pair {n}')) | (top_ranks_count['v2'].str.contains(f'Pair {n}'))]"
   ]
  },
  {
   "cell_type": "code",
   "execution_count": null,
   "metadata": {},
   "outputs": [],
   "source": []
  },
  {
   "cell_type": "markdown",
   "metadata": {},
   "source": [
    "# Data Preprocessing"
   ]
  },
  {
   "cell_type": "code",
   "execution_count": 8,
   "metadata": {},
   "outputs": [
    {
     "data": {
      "text/plain": [
       "0"
      ]
     },
     "execution_count": 8,
     "metadata": {},
     "output_type": "execute_result"
    }
   ],
   "source": [
    "df = replace_nan(rank_df)\n",
    "df.isnull().sum().sum()"
   ]
  },
  {
   "cell_type": "code",
   "execution_count": 9,
   "metadata": {},
   "outputs": [],
   "source": [
    "# df[['rank_1', 'id']].groupby('rank_1')[['id']].nunique().sort_values(by='id', ascending=False)"
   ]
  },
  {
   "cell_type": "code",
   "execution_count": 10,
   "metadata": {},
   "outputs": [
    {
     "data": {
      "text/html": [
       "<div>\n",
       "<style scoped>\n",
       "    .dataframe tbody tr th:only-of-type {\n",
       "        vertical-align: middle;\n",
       "    }\n",
       "\n",
       "    .dataframe tbody tr th {\n",
       "        vertical-align: top;\n",
       "    }\n",
       "\n",
       "    .dataframe thead th {\n",
       "        text-align: right;\n",
       "    }\n",
       "</style>\n",
       "<table border=\"1\" class=\"dataframe\">\n",
       "  <thead>\n",
       "    <tr style=\"text-align: right;\">\n",
       "      <th>pair</th>\n",
       "      <th>pair_1</th>\n",
       "      <th>pair_2</th>\n",
       "      <th>pair_3</th>\n",
       "      <th>pair_4</th>\n",
       "      <th>pair_5</th>\n",
       "      <th>pair_6</th>\n",
       "      <th>pair_7</th>\n",
       "      <th>pair_8</th>\n",
       "      <th>pair_9</th>\n",
       "      <th>pair_10</th>\n",
       "      <th>pair_11</th>\n",
       "      <th>pair_12</th>\n",
       "      <th>pair_13</th>\n",
       "      <th>pair_14</th>\n",
       "      <th>pair_15</th>\n",
       "      <th>pair_16</th>\n",
       "      <th>pair_17</th>\n",
       "      <th>pair_18</th>\n",
       "    </tr>\n",
       "    <tr>\n",
       "      <th>id</th>\n",
       "      <th></th>\n",
       "      <th></th>\n",
       "      <th></th>\n",
       "      <th></th>\n",
       "      <th></th>\n",
       "      <th></th>\n",
       "      <th></th>\n",
       "      <th></th>\n",
       "      <th></th>\n",
       "      <th></th>\n",
       "      <th></th>\n",
       "      <th></th>\n",
       "      <th></th>\n",
       "      <th></th>\n",
       "      <th></th>\n",
       "      <th></th>\n",
       "      <th></th>\n",
       "      <th></th>\n",
       "    </tr>\n",
       "  </thead>\n",
       "  <tbody>\n",
       "    <tr>\n",
       "      <th>6330002721</th>\n",
       "      <td>2.0</td>\n",
       "      <td>1.0</td>\n",
       "      <td>3.0</td>\n",
       "      <td>0.0</td>\n",
       "      <td>0.0</td>\n",
       "      <td>NaN</td>\n",
       "      <td>NaN</td>\n",
       "      <td>NaN</td>\n",
       "      <td>NaN</td>\n",
       "      <td>NaN</td>\n",
       "      <td>0.0</td>\n",
       "      <td>NaN</td>\n",
       "      <td>8.0</td>\n",
       "      <td>0.0</td>\n",
       "      <td>0.0</td>\n",
       "      <td>NaN</td>\n",
       "      <td>5.0</td>\n",
       "      <td>NaN</td>\n",
       "    </tr>\n",
       "    <tr>\n",
       "      <th>6330013621</th>\n",
       "      <td>2.0</td>\n",
       "      <td>3.0</td>\n",
       "      <td>0.0</td>\n",
       "      <td>NaN</td>\n",
       "      <td>NaN</td>\n",
       "      <td>8.0</td>\n",
       "      <td>0.0</td>\n",
       "      <td>NaN</td>\n",
       "      <td>NaN</td>\n",
       "      <td>0.0</td>\n",
       "      <td>0.0</td>\n",
       "      <td>NaN</td>\n",
       "      <td>NaN</td>\n",
       "      <td>1.0</td>\n",
       "      <td>NaN</td>\n",
       "      <td>NaN</td>\n",
       "      <td>5.0</td>\n",
       "      <td>0.0</td>\n",
       "    </tr>\n",
       "    <tr>\n",
       "      <th>6330022221</th>\n",
       "      <td>2.0</td>\n",
       "      <td>0.0</td>\n",
       "      <td>NaN</td>\n",
       "      <td>0.0</td>\n",
       "      <td>5.0</td>\n",
       "      <td>0.0</td>\n",
       "      <td>NaN</td>\n",
       "      <td>NaN</td>\n",
       "      <td>NaN</td>\n",
       "      <td>NaN</td>\n",
       "      <td>NaN</td>\n",
       "      <td>0.0</td>\n",
       "      <td>8.0</td>\n",
       "      <td>1.0</td>\n",
       "      <td>NaN</td>\n",
       "      <td>0.0</td>\n",
       "      <td>3.0</td>\n",
       "      <td>NaN</td>\n",
       "    </tr>\n",
       "    <tr>\n",
       "      <th>6330034821</th>\n",
       "      <td>NaN</td>\n",
       "      <td>0.0</td>\n",
       "      <td>0.0</td>\n",
       "      <td>NaN</td>\n",
       "      <td>NaN</td>\n",
       "      <td>2.0</td>\n",
       "      <td>8.0</td>\n",
       "      <td>3.0</td>\n",
       "      <td>NaN</td>\n",
       "      <td>0.0</td>\n",
       "      <td>0.0</td>\n",
       "      <td>1.0</td>\n",
       "      <td>NaN</td>\n",
       "      <td>NaN</td>\n",
       "      <td>5.0</td>\n",
       "      <td>NaN</td>\n",
       "      <td>0.0</td>\n",
       "      <td>NaN</td>\n",
       "    </tr>\n",
       "    <tr>\n",
       "      <th>6330038321</th>\n",
       "      <td>NaN</td>\n",
       "      <td>NaN</td>\n",
       "      <td>0.0</td>\n",
       "      <td>0.0</td>\n",
       "      <td>3.0</td>\n",
       "      <td>5.0</td>\n",
       "      <td>NaN</td>\n",
       "      <td>1.0</td>\n",
       "      <td>NaN</td>\n",
       "      <td>NaN</td>\n",
       "      <td>NaN</td>\n",
       "      <td>0.0</td>\n",
       "      <td>2.0</td>\n",
       "      <td>0.0</td>\n",
       "      <td>0.0</td>\n",
       "      <td>8.0</td>\n",
       "      <td>NaN</td>\n",
       "      <td>NaN</td>\n",
       "    </tr>\n",
       "  </tbody>\n",
       "</table>\n",
       "</div>"
      ],
      "text/plain": [
       "pair        pair_1  pair_2  pair_3  pair_4  pair_5  pair_6  pair_7  pair_8  \\\n",
       "id                                                                           \n",
       "6330002721     2.0     1.0     3.0     0.0     0.0     NaN     NaN     NaN   \n",
       "6330013621     2.0     3.0     0.0     NaN     NaN     8.0     0.0     NaN   \n",
       "6330022221     2.0     0.0     NaN     0.0     5.0     0.0     NaN     NaN   \n",
       "6330034821     NaN     0.0     0.0     NaN     NaN     2.0     8.0     3.0   \n",
       "6330038321     NaN     NaN     0.0     0.0     3.0     5.0     NaN     1.0   \n",
       "\n",
       "pair        pair_9  pair_10  pair_11  pair_12  pair_13  pair_14  pair_15  \\\n",
       "id                                                                         \n",
       "6330002721     NaN      NaN      0.0      NaN      8.0      0.0      0.0   \n",
       "6330013621     NaN      0.0      0.0      NaN      NaN      1.0      NaN   \n",
       "6330022221     NaN      NaN      NaN      0.0      8.0      1.0      NaN   \n",
       "6330034821     NaN      0.0      0.0      1.0      NaN      NaN      5.0   \n",
       "6330038321     NaN      NaN      NaN      0.0      2.0      0.0      0.0   \n",
       "\n",
       "pair        pair_16  pair_17  pair_18  \n",
       "id                                     \n",
       "6330002721      NaN      5.0      NaN  \n",
       "6330013621      NaN      5.0      0.0  \n",
       "6330022221      0.0      3.0      NaN  \n",
       "6330034821      NaN      0.0      NaN  \n",
       "6330038321      8.0      NaN      NaN  "
      ]
     },
     "execution_count": 10,
     "metadata": {},
     "output_type": "execute_result"
    }
   ],
   "source": [
    "melt_df = pd.melt(df, id_vars='id', var_name='rank', value_name='pair')\n",
    "melt_df['rank'] = melt_df['rank'].str.replace('rank_', '').astype(int)\n",
    "melt_df['pair'] = melt_df['pair'].apply(lambda x: x.split(':')[0].lower().replace(' ', '_'))\n",
    "\n",
    "score_transform = {k: v for k, v in zip(range(1, MAX_ORDER + 1), SCORE_LIST)}\n",
    "melt_df['score'] = melt_df['rank'].replace(score_transform)\n",
    "\n",
    "pair_rank_df = pd.pivot_table(melt_df, values='score', columns='pair', index='id', aggfunc='max') # .fillna(-99.0)\n",
    "\n",
    "# reorder columns\n",
    "reordered_cols = [f'pair_{i}' for i in range(1, 19)]\n",
    "pair_rank_df = pair_rank_df[reordered_cols]\n",
    "pair_rank_df.head()"
   ]
  },
  {
   "cell_type": "code",
   "execution_count": 11,
   "metadata": {},
   "outputs": [],
   "source": [
    "# melt_df.groupby(['id', 'pair'])[['rank']].count().sort_values(by='pair', ascending=False)"
   ]
  },
  {
   "cell_type": "markdown",
   "metadata": {},
   "source": [
    "# Multiply Tier"
   ]
  },
  {
   "cell_type": "code",
   "execution_count": 12,
   "metadata": {},
   "outputs": [],
   "source": [
    "# df_tier = df.set_index('ID')\n",
    "# df_tier['tier'] = tier\n",
    "# df_tier.head()"
   ]
  },
  {
   "cell_type": "code",
   "execution_count": 13,
   "metadata": {},
   "outputs": [],
   "source": [
    "# for candidate in df_tier.index:\n",
    "#     tier_score = df_tier.loc[candidate, 'tier']\n",
    "#     df_tier.loc[candidate] = df_tier.loc[candidate].apply(lambda x: x * tier_score)"
   ]
  },
  {
   "cell_type": "code",
   "execution_count": 14,
   "metadata": {},
   "outputs": [],
   "source": [
    "# df_tier.drop('tier', axis = 1, inplace = True)\n",
    "# df_tier.head()"
   ]
  },
  {
   "cell_type": "code",
   "execution_count": 15,
   "metadata": {},
   "outputs": [],
   "source": [
    "# Let df = df_tier (for scripts below)\n",
    "# df = df_tier"
   ]
  },
  {
   "cell_type": "markdown",
   "metadata": {},
   "source": [
    "# Correlation Matrix"
   ]
  },
  {
   "cell_type": "code",
   "execution_count": 23,
   "metadata": {},
   "outputs": [
    {
     "data": {
      "text/html": [
       "<div>\n",
       "<style scoped>\n",
       "    .dataframe tbody tr th:only-of-type {\n",
       "        vertical-align: middle;\n",
       "    }\n",
       "\n",
       "    .dataframe tbody tr th {\n",
       "        vertical-align: top;\n",
       "    }\n",
       "\n",
       "    .dataframe thead th {\n",
       "        text-align: right;\n",
       "    }\n",
       "</style>\n",
       "<table border=\"1\" class=\"dataframe\">\n",
       "  <thead>\n",
       "    <tr style=\"text-align: right;\">\n",
       "      <th>pair</th>\n",
       "      <th>pair_1</th>\n",
       "      <th>pair_2</th>\n",
       "      <th>pair_3</th>\n",
       "      <th>pair_4</th>\n",
       "      <th>pair_5</th>\n",
       "      <th>pair_6</th>\n",
       "      <th>pair_7</th>\n",
       "      <th>pair_8</th>\n",
       "      <th>pair_9</th>\n",
       "      <th>pair_10</th>\n",
       "      <th>pair_11</th>\n",
       "      <th>pair_12</th>\n",
       "      <th>pair_13</th>\n",
       "      <th>pair_14</th>\n",
       "      <th>pair_15</th>\n",
       "      <th>pair_16</th>\n",
       "      <th>pair_17</th>\n",
       "      <th>pair_18</th>\n",
       "    </tr>\n",
       "    <tr>\n",
       "      <th>id</th>\n",
       "      <th></th>\n",
       "      <th></th>\n",
       "      <th></th>\n",
       "      <th></th>\n",
       "      <th></th>\n",
       "      <th></th>\n",
       "      <th></th>\n",
       "      <th></th>\n",
       "      <th></th>\n",
       "      <th></th>\n",
       "      <th></th>\n",
       "      <th></th>\n",
       "      <th></th>\n",
       "      <th></th>\n",
       "      <th></th>\n",
       "      <th></th>\n",
       "      <th></th>\n",
       "      <th></th>\n",
       "    </tr>\n",
       "  </thead>\n",
       "  <tbody>\n",
       "    <tr>\n",
       "      <th>6330002721</th>\n",
       "      <td>2.0</td>\n",
       "      <td>1.0</td>\n",
       "      <td>3.0</td>\n",
       "      <td>0.0</td>\n",
       "      <td>0.0</td>\n",
       "      <td>NaN</td>\n",
       "      <td>NaN</td>\n",
       "      <td>NaN</td>\n",
       "      <td>NaN</td>\n",
       "      <td>NaN</td>\n",
       "      <td>0.0</td>\n",
       "      <td>NaN</td>\n",
       "      <td>8.0</td>\n",
       "      <td>0.0</td>\n",
       "      <td>0.0</td>\n",
       "      <td>NaN</td>\n",
       "      <td>5.0</td>\n",
       "      <td>NaN</td>\n",
       "    </tr>\n",
       "    <tr>\n",
       "      <th>6330013621</th>\n",
       "      <td>2.0</td>\n",
       "      <td>3.0</td>\n",
       "      <td>0.0</td>\n",
       "      <td>NaN</td>\n",
       "      <td>NaN</td>\n",
       "      <td>8.0</td>\n",
       "      <td>0.0</td>\n",
       "      <td>NaN</td>\n",
       "      <td>NaN</td>\n",
       "      <td>0.0</td>\n",
       "      <td>0.0</td>\n",
       "      <td>NaN</td>\n",
       "      <td>NaN</td>\n",
       "      <td>1.0</td>\n",
       "      <td>NaN</td>\n",
       "      <td>NaN</td>\n",
       "      <td>5.0</td>\n",
       "      <td>0.0</td>\n",
       "    </tr>\n",
       "    <tr>\n",
       "      <th>6330022221</th>\n",
       "      <td>2.0</td>\n",
       "      <td>0.0</td>\n",
       "      <td>NaN</td>\n",
       "      <td>0.0</td>\n",
       "      <td>5.0</td>\n",
       "      <td>0.0</td>\n",
       "      <td>NaN</td>\n",
       "      <td>NaN</td>\n",
       "      <td>NaN</td>\n",
       "      <td>NaN</td>\n",
       "      <td>NaN</td>\n",
       "      <td>0.0</td>\n",
       "      <td>8.0</td>\n",
       "      <td>1.0</td>\n",
       "      <td>NaN</td>\n",
       "      <td>0.0</td>\n",
       "      <td>3.0</td>\n",
       "      <td>NaN</td>\n",
       "    </tr>\n",
       "    <tr>\n",
       "      <th>6330034821</th>\n",
       "      <td>NaN</td>\n",
       "      <td>0.0</td>\n",
       "      <td>0.0</td>\n",
       "      <td>NaN</td>\n",
       "      <td>NaN</td>\n",
       "      <td>2.0</td>\n",
       "      <td>8.0</td>\n",
       "      <td>3.0</td>\n",
       "      <td>NaN</td>\n",
       "      <td>0.0</td>\n",
       "      <td>0.0</td>\n",
       "      <td>1.0</td>\n",
       "      <td>NaN</td>\n",
       "      <td>NaN</td>\n",
       "      <td>5.0</td>\n",
       "      <td>NaN</td>\n",
       "      <td>0.0</td>\n",
       "      <td>NaN</td>\n",
       "    </tr>\n",
       "    <tr>\n",
       "      <th>6330038321</th>\n",
       "      <td>NaN</td>\n",
       "      <td>NaN</td>\n",
       "      <td>0.0</td>\n",
       "      <td>0.0</td>\n",
       "      <td>3.0</td>\n",
       "      <td>5.0</td>\n",
       "      <td>NaN</td>\n",
       "      <td>1.0</td>\n",
       "      <td>NaN</td>\n",
       "      <td>NaN</td>\n",
       "      <td>NaN</td>\n",
       "      <td>0.0</td>\n",
       "      <td>2.0</td>\n",
       "      <td>0.0</td>\n",
       "      <td>0.0</td>\n",
       "      <td>8.0</td>\n",
       "      <td>NaN</td>\n",
       "      <td>NaN</td>\n",
       "    </tr>\n",
       "  </tbody>\n",
       "</table>\n",
       "</div>"
      ],
      "text/plain": [
       "pair        pair_1  pair_2  pair_3  pair_4  pair_5  pair_6  pair_7  pair_8  \\\n",
       "id                                                                           \n",
       "6330002721     2.0     1.0     3.0     0.0     0.0     NaN     NaN     NaN   \n",
       "6330013621     2.0     3.0     0.0     NaN     NaN     8.0     0.0     NaN   \n",
       "6330022221     2.0     0.0     NaN     0.0     5.0     0.0     NaN     NaN   \n",
       "6330034821     NaN     0.0     0.0     NaN     NaN     2.0     8.0     3.0   \n",
       "6330038321     NaN     NaN     0.0     0.0     3.0     5.0     NaN     1.0   \n",
       "\n",
       "pair        pair_9  pair_10  pair_11  pair_12  pair_13  pair_14  pair_15  \\\n",
       "id                                                                         \n",
       "6330002721     NaN      NaN      0.0      NaN      8.0      0.0      0.0   \n",
       "6330013621     NaN      0.0      0.0      NaN      NaN      1.0      NaN   \n",
       "6330022221     NaN      NaN      NaN      0.0      8.0      1.0      NaN   \n",
       "6330034821     NaN      0.0      0.0      1.0      NaN      NaN      5.0   \n",
       "6330038321     NaN      NaN      NaN      0.0      2.0      0.0      0.0   \n",
       "\n",
       "pair        pair_16  pair_17  pair_18  \n",
       "id                                     \n",
       "6330002721      NaN      5.0      NaN  \n",
       "6330013621      NaN      5.0      0.0  \n",
       "6330022221      0.0      3.0      NaN  \n",
       "6330034821      NaN      0.0      NaN  \n",
       "6330038321      8.0      NaN      NaN  "
      ]
     },
     "execution_count": 23,
     "metadata": {},
     "output_type": "execute_result"
    }
   ],
   "source": [
    "pair_rank_df.head()"
   ]
  },
  {
   "cell_type": "code",
   "execution_count": 16,
   "metadata": {},
   "outputs": [
    {
     "data": {
      "text/html": [
       "<div>\n",
       "<style scoped>\n",
       "    .dataframe tbody tr th:only-of-type {\n",
       "        vertical-align: middle;\n",
       "    }\n",
       "\n",
       "    .dataframe tbody tr th {\n",
       "        vertical-align: top;\n",
       "    }\n",
       "\n",
       "    .dataframe thead th {\n",
       "        text-align: right;\n",
       "    }\n",
       "</style>\n",
       "<table border=\"1\" class=\"dataframe\">\n",
       "  <thead>\n",
       "    <tr style=\"text-align: right;\">\n",
       "      <th></th>\n",
       "      <th>p1</th>\n",
       "      <th>p2</th>\n",
       "      <th>corr</th>\n",
       "    </tr>\n",
       "  </thead>\n",
       "  <tbody>\n",
       "    <tr>\n",
       "      <th>141</th>\n",
       "      <td>pair_8</td>\n",
       "      <td>pair_16</td>\n",
       "      <td>0.992286</td>\n",
       "    </tr>\n",
       "    <tr>\n",
       "      <th>303</th>\n",
       "      <td>pair_17</td>\n",
       "      <td>pair_16</td>\n",
       "      <td>0.552158</td>\n",
       "    </tr>\n",
       "    <tr>\n",
       "      <th>306</th>\n",
       "      <td>pair_18</td>\n",
       "      <td>pair_1</td>\n",
       "      <td>0.432112</td>\n",
       "    </tr>\n",
       "    <tr>\n",
       "      <th>99</th>\n",
       "      <td>pair_6</td>\n",
       "      <td>pair_10</td>\n",
       "      <td>0.374482</td>\n",
       "    </tr>\n",
       "    <tr>\n",
       "      <th>283</th>\n",
       "      <td>pair_16</td>\n",
       "      <td>pair_14</td>\n",
       "      <td>0.317886</td>\n",
       "    </tr>\n",
       "    <tr>\n",
       "      <th>189</th>\n",
       "      <td>pair_11</td>\n",
       "      <td>pair_10</td>\n",
       "      <td>0.288316</td>\n",
       "    </tr>\n",
       "    <tr>\n",
       "      <th>280</th>\n",
       "      <td>pair_16</td>\n",
       "      <td>pair_11</td>\n",
       "      <td>0.278618</td>\n",
       "    </tr>\n",
       "    <tr>\n",
       "      <th>302</th>\n",
       "      <td>pair_17</td>\n",
       "      <td>pair_15</td>\n",
       "      <td>0.272528</td>\n",
       "    </tr>\n",
       "    <tr>\n",
       "      <th>137</th>\n",
       "      <td>pair_8</td>\n",
       "      <td>pair_12</td>\n",
       "      <td>0.260913</td>\n",
       "    </tr>\n",
       "    <tr>\n",
       "      <th>154</th>\n",
       "      <td>pair_9</td>\n",
       "      <td>pair_11</td>\n",
       "      <td>0.260394</td>\n",
       "    </tr>\n",
       "  </tbody>\n",
       "</table>\n",
       "</div>"
      ],
      "text/plain": [
       "          p1       p2      corr\n",
       "141   pair_8  pair_16  0.992286\n",
       "303  pair_17  pair_16  0.552158\n",
       "306  pair_18   pair_1  0.432112\n",
       "99    pair_6  pair_10  0.374482\n",
       "283  pair_16  pair_14  0.317886\n",
       "189  pair_11  pair_10  0.288316\n",
       "280  pair_16  pair_11  0.278618\n",
       "302  pair_17  pair_15  0.272528\n",
       "137   pair_8  pair_12  0.260913\n",
       "154   pair_9  pair_11  0.260394"
      ]
     },
     "execution_count": 16,
     "metadata": {},
     "output_type": "execute_result"
    }
   ],
   "source": [
    "# pair_score = df[[col for col in df if 'pair' in col]]\n",
    "corr = pair_rank_df.corr().fillna(0)\n",
    "corr.index.name = ''\n",
    "corr_table = corr.unstack().reset_index()\n",
    "corr_table.columns = ['p1', 'p2', 'corr']\n",
    "\n",
    "# top correlation\n",
    "corr_table[corr_table['p1'] > corr_table['p2']].sort_values(by='corr', ascending=False).head(10)"
   ]
  },
  {
   "cell_type": "markdown",
   "metadata": {},
   "source": [
    "# Dendrogram"
   ]
  },
  {
   "cell_type": "code",
   "execution_count": 17,
   "metadata": {
    "scrolled": true
   },
   "outputs": [
    {
     "data": {
      "text/plain": [
       "Text(0.5, 1.0, 'Dendrogram of weighted applicant ranks')"
      ]
     },
     "execution_count": 17,
     "metadata": {},
     "output_type": "execute_result"
    },
    {
     "data": {
      "image/png": "[encoded data removed]",
      "text/plain": [
       "<Figure size 640x480 with 1 Axes>"
      ]
     },
     "metadata": {},
     "output_type": "display_data"
    }
   ],
   "source": [
    "den = hierarchy.dendrogram(hierarchy.linkage(corr, method = 'ward'),\n",
    "                           labels = corr.index,\n",
    "                           leaf_rotation=90)\n",
    "plt.title('Dendrogram of weighted applicant ranks')"
   ]
  },
  {
   "cell_type": "code",
   "execution_count": 19,
   "metadata": {},
   "outputs": [],
   "source": [
    "# Final data to put into those unsupervised learning models\n",
    "# pair_score.head()"
   ]
  },
  {
   "cell_type": "markdown",
   "metadata": {},
   "source": [
    "# Principal Component Analysis"
   ]
  },
  {
   "cell_type": "code",
   "execution_count": 20,
   "metadata": {},
   "outputs": [],
   "source": [
    "from sklearn.decomposition import PCA"
   ]
  },
  {
   "cell_type": "code",
   "execution_count": 28,
   "metadata": {},
   "outputs": [],
   "source": [
    "# pair_rank_df"
   ]
  },
  {
   "cell_type": "code",
   "execution_count": 25,
   "metadata": {},
   "outputs": [],
   "source": [
    "pca_input = pair_rank_df.T.fillna(-1)\n",
    "pca = PCA(n_components=2).fit(pca_input)"
   ]
  },
  {
   "cell_type": "code",
   "execution_count": 34,
   "metadata": {
    "scrolled": true
   },
   "outputs": [
    {
     "data": {
      "text/plain": [
       "array([0.1751199 , 0.12647905])"
      ]
     },
     "execution_count": 34,
     "metadata": {},
     "output_type": "execute_result"
    }
   ],
   "source": [
    "pca_score = pca.transform(pca_input)\n",
    "\n",
    "# Explained variance ratio\n",
    "pca.explained_variance_ratio_"
   ]
  },
  {
   "cell_type": "code",
   "execution_count": 36,
   "metadata": {},
   "outputs": [
    {
     "data": {
      "text/plain": [
       "array([ -2.651345  ,  30.96730364,  -1.24532143,  16.19875897,\n",
       "        -0.16017886,   7.84100962,  10.48493573,  -3.31789916,\n",
       "        -9.74854443,  -3.80307391,  -2.07803295,   1.46618308,\n",
       "        -7.27062774,  -4.08862658,  -4.98479329, -10.86725061,\n",
       "        -5.26920024, -11.47329685])"
      ]
     },
     "execution_count": 36,
     "metadata": {},
     "output_type": "execute_result"
    }
   ],
   "source": [
    "# pca_score[:,0]"
   ]
  },
  {
   "cell_type": "code",
   "execution_count": 37,
   "metadata": {
    "scrolled": true
   },
   "outputs": [
    {
     "data": {
      "image/png": "[encoded data removed]",
      "text/plain": [
       "<Figure size 1200x1000 with 1 Axes>"
      ]
     },
     "metadata": {},
     "output_type": "display_data"
    }
   ],
   "source": [
    "plt.figure(figsize = (12,10))\n",
    "plt.scatter(pca_score[:,0], pca_score[:,1])\n",
    "# sns.scatterplot(pca_score[:,0], pca_score[:,1], alpha = 0.5)\n",
    "plt.xlabel('PCA1')\n",
    "plt.ylabel('PCA2')\n",
    "plt.title('Principal Component Analysis with top two axes')\n",
    "\n",
    "# Annotate label for each dot\n",
    "for i in range(pca_score.shape[0]):\n",
    "    plt.annotate(str(i+1), (pca_score[i,0], pca_score[i,1]))\n",
    "\n",
    "plt.show()"
   ]
  },
  {
   "cell_type": "markdown",
   "metadata": {},
   "source": [
    "# Truncated Singular Value Decomposition"
   ]
  },
  {
   "cell_type": "code",
   "execution_count": 73,
   "metadata": {},
   "outputs": [],
   "source": [
    "from sklearn.decomposition import TruncatedSVD"
   ]
  },
  {
   "cell_type": "code",
   "execution_count": 74,
   "metadata": {},
   "outputs": [
    {
     "data": {
      "text/plain": [
       "array([0.16537476, 0.15505945])"
      ]
     },
     "execution_count": 74,
     "metadata": {},
     "output_type": "execute_result"
    }
   ],
   "source": [
    "tsvd = TruncatedSVD(n_components=2, random_state=73).fit(pair_score.T)\n",
    "tsvd_score = tsvd.transform(pair_score.T)\n",
    "\n",
    "tsvd.explained_variance_ratio_"
   ]
  },
  {
   "cell_type": "code",
   "execution_count": 75,
   "metadata": {},
   "outputs": [
    {
     "data": {
      "image/png": "[encoded data removed]",
      "text/plain": [
       "<Figure size 576x432 with 1 Axes>"
      ]
     },
     "metadata": {
      "needs_background": "light"
     },
     "output_type": "display_data"
    }
   ],
   "source": [
    "plt.figure(figsize = (8,6))\n",
    "#plt.scatter(pca_score[:,0], pca_score[:,1])\n",
    "sns.scatterplot(tsvd_score[:,0], tsvd_score[:,1], alpha = 0.5)\n",
    "plt.xlabel('TSVD1')\n",
    "plt.ylabel('TSVD2')\n",
    "plt.title('Truncated SVD with n_components = 2')\n",
    "\n",
    "# Annotate label for each dot\n",
    "for i in range(tsvd_score.shape[0]):\n",
    "    plt.annotate(str(i+1), (tsvd_score[i,0], tsvd_score[i,1]))\n",
    "\n",
    "plt.show()"
   ]
  },
  {
   "cell_type": "markdown",
   "metadata": {},
   "source": [
    "# Extra: Pair Score Sum"
   ]
  },
  {
   "cell_type": "code",
   "execution_count": 76,
   "metadata": {
    "scrolled": true
   },
   "outputs": [
    {
     "data": {
      "text/plain": [
       "pair 17    1544\n",
       "pair 3     1054\n",
       "pair 15    1044\n",
       "pair 8      951\n",
       "pair 12     928\n",
       "pair 5      654\n",
       "pair 13     650\n",
       "pair 2      632\n",
       "pair 9      528\n",
       "pair 18     515\n",
       "pair 11     485\n",
       "pair 6      334\n",
       "pair 10     325\n",
       "pair 4      291\n",
       "pair 14     251\n",
       "pair 7      169\n",
       "pair 16     152\n",
       "dtype: int64"
      ]
     },
     "execution_count": 76,
     "metadata": {},
     "output_type": "execute_result"
    }
   ],
   "source": [
    "df.sum(axis = 0).iloc[1:].astype(int).sort_values(ascending = False)"
   ]
  },
  {
   "cell_type": "markdown",
   "metadata": {},
   "source": [
    "# 3D Plot from PCA"
   ]
  },
  {
   "cell_type": "code",
   "execution_count": 77,
   "metadata": {},
   "outputs": [],
   "source": [
    "import plotly.express as px\n",
    "from sklearn.preprocessing import MinMaxScaler"
   ]
  },
  {
   "cell_type": "code",
   "execution_count": 78,
   "metadata": {},
   "outputs": [
    {
     "name": "stdout",
     "output_type": "stream",
     "text": [
      "Explained variance ratio: 47.49\n"
     ]
    }
   ],
   "source": [
    "pca_3x = PCA(n_components=3).fit(pair_score.T)\n",
    "pca_3x_score = pca_3x.transform(pair_score.T)\n",
    "\n",
    "print('Explained variance ratio: %.2f' % (sum(pca_3x.explained_variance_ratio_) * 100))"
   ]
  },
  {
   "cell_type": "code",
   "execution_count": 79,
   "metadata": {},
   "outputs": [
    {
     "data": {
      "application/vnd.plotly.v1+json": {
       "config": {
        "plotlyServerURL": "https://plot.ly"
       },
       "data": [
        {
         "hoverlabel": {
          "namelength": 0
         },
         "hovertemplate": "x=%{x}<br>y=%{y}<br>z=%{z}<br>text=%{text}",
         "legendgroup": "",
         "marker": {
          "color": "#636efa",
          "opacity": 0.3,
          "symbol": "circle"
         },
         "mode": "markers+text",
         "name": "",
         "scene": "scene",
         "showlegend": false,
         "text": [
          "1",
          "2",
          "3",
          "4",
          "5",
          "6",
          "7",
          "8",
          "9",
          "10",
          "11",
          "12",
          "13",
          "14",
          "15",
          "16",
          "17",
          "18"
         ],
         "type": "scatter3d",
         "x": [
          -2.942806124035098,
          -5.427517119383163,
          31.93845242161174,
          -39.57384375902329,
          -2.9875019637658213,
          -36.151391959627944,
          -45.58050922871787,
          16.939253104986523,
          -16.886395890490398,
          -28.999331265797114,
          -22.858212381765217,
          61.469336832411415,
          -6.122844626021265,
          -40.760005286675025,
          46.45742293937511,
          -46.672555608640224,
          166.40211598230323,
          -28.243666066745547
         ],
         "y": [
          21.61713126526318,
          -51.20911695498701,
          92.75408660517517,
          25.75905947535972,
          -22.259943046662308,
          -36.31537729496526,
          -0.41493223875197743,
          101.87897939300541,
          15.642523919543443,
          13.774941838212484,
          -54.002938715140516,
          1.5972811409483214,
          -16.231534262375188,
          5.584698713093983,
          -47.25696295213095,
          4.566358109850332,
          -25.58819275558268,
          -29.89606223985615
         ],
         "z": [
          36.605544837993776,
          -42.15348119246625,
          77.28940010294974,
          -27.630219371863465,
          28.53367636763307,
          -0.8969750865415498,
          0.1646825831215212,
          -76.5876238591985,
          13.792412281447952,
          -11.152192000902955,
          -1.7494174262959794,
          9.945286635448396,
          10.306056506648174,
          1.0314580220017415,
          47.3996428251592,
          -16.006536595110497,
          -37.463083197450295,
          -11.428631432574115
         ]
        }
       ],
       "layout": {
        "height": 600,
        "legend": {
         "tracegroupgap": 0
        },
        "scene": {
         "domain": {
          "x": [
           0,
           1
          ],
          "y": [
           0,
           1
          ]
         },
         "xaxis": {
          "showgrid": false,
          "showticklabels": false,
          "title": {
           "text": "x"
          }
         },
         "yaxis": {
          "showgrid": false,
          "showticklabels": false,
          "title": {
           "text": "y"
          }
         },
         "zaxis": {
          "showgrid": false,
          "showticklabels": false,
          "title": {
           "text": "z"
          }
         }
        },
        "template": {
         "data": {
          "bar": [
           {
            "error_x": {
             "color": "#2a3f5f"
            },
            "error_y": {
             "color": "#2a3f5f"
            },
            "marker": {
             "line": {
              "color": "#E5ECF6",
              "width": 0.5
             }
            },
            "type": "bar"
           }
          ],
          "barpolar": [
           {
            "marker": {
             "line": {
              "color": "#E5ECF6",
              "width": 0.5
             }
            },
            "type": "barpolar"
           }
          ],
          "carpet": [
           {
            "aaxis": {
             "endlinecolor": "#2a3f5f",
             "gridcolor": "white",
             "linecolor": "white",
             "minorgridcolor": "white",
             "startlinecolor": "#2a3f5f"
            },
            "baxis": {
             "endlinecolor": "#2a3f5f",
             "gridcolor": "white",
             "linecolor": "white",
             "minorgridcolor": "white",
             "startlinecolor": "#2a3f5f"
            },
            "type": "carpet"
           }
          ],
          "choropleth": [
           {
            "colorbar": {
             "outlinewidth": 0,
             "ticks": ""
            },
            "type": "choropleth"
           }
          ],
          "contour": [
           {
            "colorbar": {
             "outlinewidth": 0,
             "ticks": ""
            },
            "colorscale": [
             [
              0,
              "#0d0887"
             ],
             [
              0.1111111111111111,
              "#46039f"
             ],
             [
              0.2222222222222222,
              "#7201a8"
             ],
             [
              0.3333333333333333,
              "#9c179e"
             ],
             [
              0.4444444444444444,
              "#bd3786"
             ],
             [
              0.5555555555555556,
              "#d8576b"
             ],
             [
              0.6666666666666666,
              "#ed7953"
             ],
             [
              0.7777777777777778,
              "#fb9f3a"
             ],
             [
              0.8888888888888888,
              "#fdca26"
             ],
             [
              1,
              "#f0f921"
             ]
            ],
            "type": "contour"
           }
          ],
          "contourcarpet": [
           {
            "colorbar": {
             "outlinewidth": 0,
             "ticks": ""
            },
            "type": "contourcarpet"
           }
          ],
          "heatmap": [
           {
            "colorbar": {
             "outlinewidth": 0,
             "ticks": ""
            },
            "colorscale": [
             [
              0,
              "#0d0887"
             ],
             [
              0.1111111111111111,
              "#46039f"
             ],
             [
              0.2222222222222222,
              "#7201a8"
             ],
             [
              0.3333333333333333,
              "#9c179e"
             ],
             [
              0.4444444444444444,
              "#bd3786"
             ],
             [
              0.5555555555555556,
              "#d8576b"
             ],
             [
              0.6666666666666666,
              "#ed7953"
             ],
             [
              0.7777777777777778,
              "#fb9f3a"
             ],
             [
              0.8888888888888888,
              "#fdca26"
             ],
             [
              1,
              "#f0f921"
             ]
            ],
            "type": "heatmap"
           }
          ],
          "heatmapgl": [
           {
            "colorbar": {
             "outlinewidth": 0,
             "ticks": ""
            },
            "colorscale": [
             [
              0,
              "#0d0887"
             ],
             [
              0.1111111111111111,
              "#46039f"
             ],
             [
              0.2222222222222222,
              "#7201a8"
             ],
             [
              0.3333333333333333,
              "#9c179e"
             ],
             [
              0.4444444444444444,
              "#bd3786"
             ],
             [
              0.5555555555555556,
              "#d8576b"
             ],
             [
              0.6666666666666666,
              "#ed7953"
             ],
             [
              0.7777777777777778,
              "#fb9f3a"
             ],
             [
              0.8888888888888888,
              "#fdca26"
             ],
             [
              1,
              "#f0f921"
             ]
            ],
            "type": "heatmapgl"
           }
          ],
          "histogram": [
           {
            "marker": {
             "colorbar": {
              "outlinewidth": 0,
              "ticks": ""
             }
            },
            "type": "histogram"
           }
          ],
          "histogram2d": [
           {
            "colorbar": {
             "outlinewidth": 0,
             "ticks": ""
            },
            "colorscale": [
             [
              0,
              "#0d0887"
             ],
             [
              0.1111111111111111,
              "#46039f"
             ],
             [
              0.2222222222222222,
              "#7201a8"
             ],
             [
              0.3333333333333333,
              "#9c179e"
             ],
             [
              0.4444444444444444,
              "#bd3786"
             ],
             [
              0.5555555555555556,
              "#d8576b"
             ],
             [
              0.6666666666666666,
              "#ed7953"
             ],
             [
              0.7777777777777778,
              "#fb9f3a"
             ],
             [
              0.8888888888888888,
              "#fdca26"
             ],
             [
              1,
              "#f0f921"
             ]
            ],
            "type": "histogram2d"
           }
          ],
          "histogram2dcontour": [
           {
            "colorbar": {
             "outlinewidth": 0,
             "ticks": ""
            },
            "colorscale": [
             [
              0,
              "#0d0887"
             ],
             [
              0.1111111111111111,
              "#46039f"
             ],
             [
              0.2222222222222222,
              "#7201a8"
             ],
             [
              0.3333333333333333,
              "#9c179e"
             ],
             [
              0.4444444444444444,
              "#bd3786"
             ],
             [
              0.5555555555555556,
              "#d8576b"
             ],
             [
              0.6666666666666666,
              "#ed7953"
             ],
             [
              0.7777777777777778,
              "#fb9f3a"
             ],
             [
              0.8888888888888888,
              "#fdca26"
             ],
             [
              1,
              "#f0f921"
             ]
            ],
            "type": "histogram2dcontour"
           }
          ],
          "mesh3d": [
           {
            "colorbar": {
             "outlinewidth": 0,
             "ticks": ""
            },
            "type": "mesh3d"
           }
          ],
          "parcoords": [
           {
            "line": {
             "colorbar": {
              "outlinewidth": 0,
              "ticks": ""
             }
            },
            "type": "parcoords"
           }
          ],
          "pie": [
           {
            "automargin": true,
            "type": "pie"
           }
          ],
          "scatter": [
           {
            "marker": {
             "colorbar": {
              "outlinewidth": 0,
              "ticks": ""
             }
            },
            "type": "scatter"
           }
          ],
          "scatter3d": [
           {
            "line": {
             "colorbar": {
              "outlinewidth": 0,
              "ticks": ""
             }
            },
            "marker": {
             "colorbar": {
              "outlinewidth": 0,
              "ticks": ""
             }
            },
            "type": "scatter3d"
           }
          ],
          "scattercarpet": [
           {
            "marker": {
             "colorbar": {
              "outlinewidth": 0,
              "ticks": ""
             }
            },
            "type": "scattercarpet"
           }
          ],
          "scattergeo": [
           {
            "marker": {
             "colorbar": {
              "outlinewidth": 0,
              "ticks": ""
             }
            },
            "type": "scattergeo"
           }
          ],
          "scattergl": [
           {
            "marker": {
             "colorbar": {
              "outlinewidth": 0,
              "ticks": ""
             }
            },
            "type": "scattergl"
           }
          ],
          "scattermapbox": [
           {
            "marker": {
             "colorbar": {
              "outlinewidth": 0,
              "ticks": ""
             }
            },
            "type": "scattermapbox"
           }
          ],
          "scatterpolar": [
           {
            "marker": {
             "colorbar": {
              "outlinewidth": 0,
              "ticks": ""
             }
            },
            "type": "scatterpolar"
           }
          ],
          "scatterpolargl": [
           {
            "marker": {
             "colorbar": {
              "outlinewidth": 0,
              "ticks": ""
             }
            },
            "type": "scatterpolargl"
           }
          ],
          "scatterternary": [
           {
            "marker": {
             "colorbar": {
              "outlinewidth": 0,
              "ticks": ""
             }
            },
            "type": "scatterternary"
           }
          ],
          "surface": [
           {
            "colorbar": {
             "outlinewidth": 0,
             "ticks": ""
            },
            "colorscale": [
             [
              0,
              "#0d0887"
             ],
             [
              0.1111111111111111,
              "#46039f"
             ],
             [
              0.2222222222222222,
              "#7201a8"
             ],
             [
              0.3333333333333333,
              "#9c179e"
             ],
             [
              0.4444444444444444,
              "#bd3786"
             ],
             [
              0.5555555555555556,
              "#d8576b"
             ],
             [
              0.6666666666666666,
              "#ed7953"
             ],
             [
              0.7777777777777778,
              "#fb9f3a"
             ],
             [
              0.8888888888888888,
              "#fdca26"
             ],
             [
              1,
              "#f0f921"
             ]
            ],
            "type": "surface"
           }
          ],
          "table": [
           {
            "cells": {
             "fill": {
              "color": "#EBF0F8"
             },
             "line": {
              "color": "white"
             }
            },
            "header": {
             "fill": {
              "color": "#C8D4E3"
             },
             "line": {
              "color": "white"
             }
            },
            "type": "table"
           }
          ]
         },
         "layout": {
          "annotationdefaults": {
           "arrowcolor": "#2a3f5f",
           "arrowhead": 0,
           "arrowwidth": 1
          },
          "coloraxis": {
           "colorbar": {
            "outlinewidth": 0,
            "ticks": ""
           }
          },
          "colorscale": {
           "diverging": [
            [
             0,
             "#8e0152"
            ],
            [
             0.1,
             "#c51b7d"
            ],
            [
             0.2,
             "#de77ae"
            ],
            [
             0.3,
             "#f1b6da"
            ],
            [
             0.4,
             "#fde0ef"
            ],
            [
             0.5,
             "#f7f7f7"
            ],
            [
             0.6,
             "#e6f5d0"
            ],
            [
             0.7,
             "#b8e186"
            ],
            [
             0.8,
             "#7fbc41"
            ],
            [
             0.9,
             "#4d9221"
            ],
            [
             1,
             "#276419"
            ]
           ],
           "sequential": [
            [
             0,
             "#0d0887"
            ],
            [
             0.1111111111111111,
             "#46039f"
            ],
            [
             0.2222222222222222,
             "#7201a8"
            ],
            [
             0.3333333333333333,
             "#9c179e"
            ],
            [
             0.4444444444444444,
             "#bd3786"
            ],
            [
             0.5555555555555556,
             "#d8576b"
            ],
            [
             0.6666666666666666,
             "#ed7953"
            ],
            [
             0.7777777777777778,
             "#fb9f3a"
            ],
            [
             0.8888888888888888,
             "#fdca26"
            ],
            [
             1,
             "#f0f921"
            ]
           ],
           "sequentialminus": [
            [
             0,
             "#0d0887"
            ],
            [
             0.1111111111111111,
             "#46039f"
            ],
            [
             0.2222222222222222,
             "#7201a8"
            ],
            [
             0.3333333333333333,
             "#9c179e"
            ],
            [
             0.4444444444444444,
             "#bd3786"
            ],
            [
             0.5555555555555556,
             "#d8576b"
            ],
            [
             0.6666666666666666,
             "#ed7953"
            ],
            [
             0.7777777777777778,
             "#fb9f3a"
            ],
            [
             0.8888888888888888,
             "#fdca26"
            ],
            [
             1,
             "#f0f921"
            ]
           ]
          },
          "colorway": [
           "#636efa",
           "#EF553B",
           "#00cc96",
           "#ab63fa",
           "#FFA15A",
           "#19d3f3",
           "#FF6692",
           "#B6E880",
           "#FF97FF",
           "#FECB52"
          ],
          "font": {
           "color": "#2a3f5f"
          },
          "geo": {
           "bgcolor": "white",
           "lakecolor": "white",
           "landcolor": "#E5ECF6",
           "showlakes": true,
           "showland": true,
           "subunitcolor": "white"
          },
          "hoverlabel": {
           "align": "left"
          },
          "hovermode": "closest",
          "mapbox": {
           "style": "light"
          },
          "paper_bgcolor": "white",
          "plot_bgcolor": "#E5ECF6",
          "polar": {
           "angularaxis": {
            "gridcolor": "white",
            "linecolor": "white",
            "ticks": ""
           },
           "bgcolor": "#E5ECF6",
           "radialaxis": {
            "gridcolor": "white",
            "linecolor": "white",
            "ticks": ""
           }
          },
          "scene": {
           "xaxis": {
            "backgroundcolor": "#E5ECF6",
            "gridcolor": "white",
            "gridwidth": 2,
            "linecolor": "white",
            "showbackground": true,
            "ticks": "",
            "zerolinecolor": "white"
           },
           "yaxis": {
            "backgroundcolor": "#E5ECF6",
            "gridcolor": "white",
            "gridwidth": 2,
            "linecolor": "white",
            "showbackground": true,
            "ticks": "",
            "zerolinecolor": "white"
           },
           "zaxis": {
            "backgroundcolor": "#E5ECF6",
            "gridcolor": "white",
            "gridwidth": 2,
            "linecolor": "white",
            "showbackground": true,
            "ticks": "",
            "zerolinecolor": "white"
           }
          },
          "shapedefaults": {
           "line": {
            "color": "#2a3f5f"
           }
          },
          "ternary": {
           "aaxis": {
            "gridcolor": "white",
            "linecolor": "white",
            "ticks": ""
           },
           "baxis": {
            "gridcolor": "white",
            "linecolor": "white",
            "ticks": ""
           },
           "bgcolor": "#E5ECF6",
           "caxis": {
            "gridcolor": "white",
            "linecolor": "white",
            "ticks": ""
           }
          },
          "title": {
           "x": 0.05
          },
          "xaxis": {
           "automargin": true,
           "gridcolor": "white",
           "linecolor": "white",
           "ticks": "",
           "title": {
            "standoff": 15
           },
           "zerolinecolor": "white",
           "zerolinewidth": 2
          },
          "yaxis": {
           "automargin": true,
           "gridcolor": "white",
           "linecolor": "white",
           "ticks": "",
           "title": {
            "standoff": 15
           },
           "zerolinecolor": "white",
           "zerolinewidth": 2
          }
         }
        },
        "title": {
         "text": "3D Principal Component Analysis Visualization"
        }
       }
      },
      "text/html": [
       "<div>\n",
       "        \n",
       "        \n",
       "            <div id=\"cfb3a8b8-51b4-4d5c-8ee3-012e3d5a19d4\" class=\"plotly-graph-div\" style=\"height:600px; width:100%;\"></div>\n",
       "            <script type=\"text/javascript\">\n",
       "                require([\"plotly\"], function(Plotly) {\n",
       "                    window.PLOTLYENV=window.PLOTLYENV || {};\n",
       "                    \n",
       "                if (document.getElementById(\"cfb3a8b8-51b4-4d5c-8ee3-012e3d5a19d4\")) {\n",
       "                    Plotly.newPlot(\n",
       "                        'cfb3a8b8-51b4-4d5c-8ee3-012e3d5a19d4',\n",
       "                        [{\"hoverlabel\": {\"namelength\": 0}, \"hovertemplate\": \"x=%{x}<br>y=%{y}<br>z=%{z}<br>text=%{text}\", \"legendgroup\": \"\", \"marker\": {\"color\": \"#636efa\", \"opacity\": 0.3, \"symbol\": \"circle\"}, \"mode\": \"markers+text\", \"name\": \"\", \"scene\": \"scene\", \"showlegend\": false, \"text\": [\"1\", \"2\", \"3\", \"4\", \"5\", \"6\", \"7\", \"8\", \"9\", \"10\", \"11\", \"12\", \"13\", \"14\", \"15\", \"16\", \"17\", \"18\"], \"type\": \"scatter3d\", \"x\": [-2.942806124035098, -5.427517119383163, 31.93845242161174, -39.57384375902329, -2.9875019637658213, -36.151391959627944, -45.58050922871787, 16.939253104986523, -16.886395890490398, -28.999331265797114, -22.858212381765217, 61.469336832411415, -6.122844626021265, -40.760005286675025, 46.45742293937511, -46.672555608640224, 166.40211598230323, -28.243666066745547], \"y\": [21.61713126526318, -51.20911695498701, 92.75408660517517, 25.75905947535972, -22.259943046662308, -36.31537729496526, -0.41493223875197743, 101.87897939300541, 15.642523919543443, 13.774941838212484, -54.002938715140516, 1.5972811409483214, -16.231534262375188, 5.584698713093983, -47.25696295213095, 4.566358109850332, -25.58819275558268, -29.89606223985615], \"z\": [36.605544837993776, -42.15348119246625, 77.28940010294974, -27.630219371863465, 28.53367636763307, -0.8969750865415498, 0.1646825831215212, -76.5876238591985, 13.792412281447952, -11.152192000902955, -1.7494174262959794, 9.945286635448396, 10.306056506648174, 1.0314580220017415, 47.3996428251592, -16.006536595110497, -37.463083197450295, -11.428631432574115]}],\n",
       "                        {\"height\": 600, \"legend\": {\"tracegroupgap\": 0}, \"scene\": {\"domain\": {\"x\": [0.0, 1.0], \"y\": [0.0, 1.0]}, \"xaxis\": {\"showgrid\": false, \"showticklabels\": false, \"title\": {\"text\": \"x\"}}, \"yaxis\": {\"showgrid\": false, \"showticklabels\": false, \"title\": {\"text\": \"y\"}}, \"zaxis\": {\"showgrid\": false, \"showticklabels\": false, \"title\": {\"text\": \"z\"}}}, \"template\": {\"data\": {\"bar\": [{\"error_x\": {\"color\": \"#2a3f5f\"}, \"error_y\": {\"color\": \"#2a3f5f\"}, \"marker\": {\"line\": {\"color\": \"#E5ECF6\", \"width\": 0.5}}, \"type\": \"bar\"}], \"barpolar\": [{\"marker\": {\"line\": {\"color\": \"#E5ECF6\", \"width\": 0.5}}, \"type\": \"barpolar\"}], \"carpet\": [{\"aaxis\": {\"endlinecolor\": \"#2a3f5f\", \"gridcolor\": \"white\", \"linecolor\": \"white\", \"minorgridcolor\": \"white\", \"startlinecolor\": \"#2a3f5f\"}, \"baxis\": {\"endlinecolor\": \"#2a3f5f\", \"gridcolor\": \"white\", \"linecolor\": \"white\", \"minorgridcolor\": \"white\", \"startlinecolor\": \"#2a3f5f\"}, \"type\": \"carpet\"}], \"choropleth\": [{\"colorbar\": {\"outlinewidth\": 0, \"ticks\": \"\"}, \"type\": \"choropleth\"}], \"contour\": [{\"colorbar\": {\"outlinewidth\": 0, \"ticks\": \"\"}, \"colorscale\": [[0.0, \"#0d0887\"], [0.1111111111111111, \"#46039f\"], [0.2222222222222222, \"#7201a8\"], [0.3333333333333333, \"#9c179e\"], [0.4444444444444444, \"#bd3786\"], [0.5555555555555556, \"#d8576b\"], [0.6666666666666666, \"#ed7953\"], [0.7777777777777778, \"#fb9f3a\"], [0.8888888888888888, \"#fdca26\"], [1.0, \"#f0f921\"]], \"type\": \"contour\"}], \"contourcarpet\": [{\"colorbar\": {\"outlinewidth\": 0, \"ticks\": \"\"}, \"type\": \"contourcarpet\"}], \"heatmap\": [{\"colorbar\": {\"outlinewidth\": 0, \"ticks\": \"\"}, \"colorscale\": [[0.0, \"#0d0887\"], [0.1111111111111111, \"#46039f\"], [0.2222222222222222, \"#7201a8\"], [0.3333333333333333, \"#9c179e\"], [0.4444444444444444, \"#bd3786\"], [0.5555555555555556, \"#d8576b\"], [0.6666666666666666, \"#ed7953\"], [0.7777777777777778, \"#fb9f3a\"], [0.8888888888888888, \"#fdca26\"], [1.0, \"#f0f921\"]], \"type\": \"heatmap\"}], \"heatmapgl\": [{\"colorbar\": {\"outlinewidth\": 0, \"ticks\": \"\"}, \"colorscale\": [[0.0, \"#0d0887\"], [0.1111111111111111, \"#46039f\"], [0.2222222222222222, \"#7201a8\"], [0.3333333333333333, \"#9c179e\"], [0.4444444444444444, \"#bd3786\"], [0.5555555555555556, \"#d8576b\"], [0.6666666666666666, \"#ed7953\"], [0.7777777777777778, \"#fb9f3a\"], [0.8888888888888888, \"#fdca26\"], [1.0, \"#f0f921\"]], \"type\": \"heatmapgl\"}], \"histogram\": [{\"marker\": {\"colorbar\": {\"outlinewidth\": 0, \"ticks\": \"\"}}, \"type\": \"histogram\"}], \"histogram2d\": [{\"colorbar\": {\"outlinewidth\": 0, \"ticks\": \"\"}, \"colorscale\": [[0.0, \"#0d0887\"], [0.1111111111111111, \"#46039f\"], [0.2222222222222222, \"#7201a8\"], [0.3333333333333333, \"#9c179e\"], [0.4444444444444444, \"#bd3786\"], [0.5555555555555556, \"#d8576b\"], [0.6666666666666666, \"#ed7953\"], [0.7777777777777778, \"#fb9f3a\"], [0.8888888888888888, \"#fdca26\"], [1.0, \"#f0f921\"]], \"type\": \"histogram2d\"}], \"histogram2dcontour\": [{\"colorbar\": {\"outlinewidth\": 0, \"ticks\": \"\"}, \"colorscale\": [[0.0, \"#0d0887\"], [0.1111111111111111, \"#46039f\"], [0.2222222222222222, \"#7201a8\"], [0.3333333333333333, \"#9c179e\"], [0.4444444444444444, \"#bd3786\"], [0.5555555555555556, \"#d8576b\"], [0.6666666666666666, \"#ed7953\"], [0.7777777777777778, \"#fb9f3a\"], [0.8888888888888888, \"#fdca26\"], [1.0, \"#f0f921\"]], \"type\": \"histogram2dcontour\"}], \"mesh3d\": [{\"colorbar\": {\"outlinewidth\": 0, \"ticks\": \"\"}, \"type\": \"mesh3d\"}], \"parcoords\": [{\"line\": {\"colorbar\": {\"outlinewidth\": 0, \"ticks\": \"\"}}, \"type\": \"parcoords\"}], \"pie\": [{\"automargin\": true, \"type\": \"pie\"}], \"scatter\": [{\"marker\": {\"colorbar\": {\"outlinewidth\": 0, \"ticks\": \"\"}}, \"type\": \"scatter\"}], \"scatter3d\": [{\"line\": {\"colorbar\": {\"outlinewidth\": 0, \"ticks\": \"\"}}, \"marker\": {\"colorbar\": {\"outlinewidth\": 0, \"ticks\": \"\"}}, \"type\": \"scatter3d\"}], \"scattercarpet\": [{\"marker\": {\"colorbar\": {\"outlinewidth\": 0, \"ticks\": \"\"}}, \"type\": \"scattercarpet\"}], \"scattergeo\": [{\"marker\": {\"colorbar\": {\"outlinewidth\": 0, \"ticks\": \"\"}}, \"type\": \"scattergeo\"}], \"scattergl\": [{\"marker\": {\"colorbar\": {\"outlinewidth\": 0, \"ticks\": \"\"}}, \"type\": \"scattergl\"}], \"scattermapbox\": [{\"marker\": {\"colorbar\": {\"outlinewidth\": 0, \"ticks\": \"\"}}, \"type\": \"scattermapbox\"}], \"scatterpolar\": [{\"marker\": {\"colorbar\": {\"outlinewidth\": 0, \"ticks\": \"\"}}, \"type\": \"scatterpolar\"}], \"scatterpolargl\": [{\"marker\": {\"colorbar\": {\"outlinewidth\": 0, \"ticks\": \"\"}}, \"type\": \"scatterpolargl\"}], \"scatterternary\": [{\"marker\": {\"colorbar\": {\"outlinewidth\": 0, \"ticks\": \"\"}}, \"type\": \"scatterternary\"}], \"surface\": [{\"colorbar\": {\"outlinewidth\": 0, \"ticks\": \"\"}, \"colorscale\": [[0.0, \"#0d0887\"], [0.1111111111111111, \"#46039f\"], [0.2222222222222222, \"#7201a8\"], [0.3333333333333333, \"#9c179e\"], [0.4444444444444444, \"#bd3786\"], [0.5555555555555556, \"#d8576b\"], [0.6666666666666666, \"#ed7953\"], [0.7777777777777778, \"#fb9f3a\"], [0.8888888888888888, \"#fdca26\"], [1.0, \"#f0f921\"]], \"type\": \"surface\"}], \"table\": [{\"cells\": {\"fill\": {\"color\": \"#EBF0F8\"}, \"line\": {\"color\": \"white\"}}, \"header\": {\"fill\": {\"color\": \"#C8D4E3\"}, \"line\": {\"color\": \"white\"}}, \"type\": \"table\"}]}, \"layout\": {\"annotationdefaults\": {\"arrowcolor\": \"#2a3f5f\", \"arrowhead\": 0, \"arrowwidth\": 1}, \"coloraxis\": {\"colorbar\": {\"outlinewidth\": 0, \"ticks\": \"\"}}, \"colorscale\": {\"diverging\": [[0, \"#8e0152\"], [0.1, \"#c51b7d\"], [0.2, \"#de77ae\"], [0.3, \"#f1b6da\"], [0.4, \"#fde0ef\"], [0.5, \"#f7f7f7\"], [0.6, \"#e6f5d0\"], [0.7, \"#b8e186\"], [0.8, \"#7fbc41\"], [0.9, \"#4d9221\"], [1, \"#276419\"]], \"sequential\": [[0.0, \"#0d0887\"], [0.1111111111111111, \"#46039f\"], [0.2222222222222222, \"#7201a8\"], [0.3333333333333333, \"#9c179e\"], [0.4444444444444444, \"#bd3786\"], [0.5555555555555556, \"#d8576b\"], [0.6666666666666666, \"#ed7953\"], [0.7777777777777778, \"#fb9f3a\"], [0.8888888888888888, \"#fdca26\"], [1.0, \"#f0f921\"]], \"sequentialminus\": [[0.0, \"#0d0887\"], [0.1111111111111111, \"#46039f\"], [0.2222222222222222, \"#7201a8\"], [0.3333333333333333, \"#9c179e\"], [0.4444444444444444, \"#bd3786\"], [0.5555555555555556, \"#d8576b\"], [0.6666666666666666, \"#ed7953\"], [0.7777777777777778, \"#fb9f3a\"], [0.8888888888888888, \"#fdca26\"], [1.0, \"#f0f921\"]]}, \"colorway\": [\"#636efa\", \"#EF553B\", \"#00cc96\", \"#ab63fa\", \"#FFA15A\", \"#19d3f3\", \"#FF6692\", \"#B6E880\", \"#FF97FF\", \"#FECB52\"], \"font\": {\"color\": \"#2a3f5f\"}, \"geo\": {\"bgcolor\": \"white\", \"lakecolor\": \"white\", \"landcolor\": \"#E5ECF6\", \"showlakes\": true, \"showland\": true, \"subunitcolor\": \"white\"}, \"hoverlabel\": {\"align\": \"left\"}, \"hovermode\": \"closest\", \"mapbox\": {\"style\": \"light\"}, \"paper_bgcolor\": \"white\", \"plot_bgcolor\": \"#E5ECF6\", \"polar\": {\"angularaxis\": {\"gridcolor\": \"white\", \"linecolor\": \"white\", \"ticks\": \"\"}, \"bgcolor\": \"#E5ECF6\", \"radialaxis\": {\"gridcolor\": \"white\", \"linecolor\": \"white\", \"ticks\": \"\"}}, \"scene\": {\"xaxis\": {\"backgroundcolor\": \"#E5ECF6\", \"gridcolor\": \"white\", \"gridwidth\": 2, \"linecolor\": \"white\", \"showbackground\": true, \"ticks\": \"\", \"zerolinecolor\": \"white\"}, \"yaxis\": {\"backgroundcolor\": \"#E5ECF6\", \"gridcolor\": \"white\", \"gridwidth\": 2, \"linecolor\": \"white\", \"showbackground\": true, \"ticks\": \"\", \"zerolinecolor\": \"white\"}, \"zaxis\": {\"backgroundcolor\": \"#E5ECF6\", \"gridcolor\": \"white\", \"gridwidth\": 2, \"linecolor\": \"white\", \"showbackground\": true, \"ticks\": \"\", \"zerolinecolor\": \"white\"}}, \"shapedefaults\": {\"line\": {\"color\": \"#2a3f5f\"}}, \"ternary\": {\"aaxis\": {\"gridcolor\": \"white\", \"linecolor\": \"white\", \"ticks\": \"\"}, \"baxis\": {\"gridcolor\": \"white\", \"linecolor\": \"white\", \"ticks\": \"\"}, \"bgcolor\": \"#E5ECF6\", \"caxis\": {\"gridcolor\": \"white\", \"linecolor\": \"white\", \"ticks\": \"\"}}, \"title\": {\"x\": 0.05}, \"xaxis\": {\"automargin\": true, \"gridcolor\": \"white\", \"linecolor\": \"white\", \"ticks\": \"\", \"title\": {\"standoff\": 15}, \"zerolinecolor\": \"white\", \"zerolinewidth\": 2}, \"yaxis\": {\"automargin\": true, \"gridcolor\": \"white\", \"linecolor\": \"white\", \"ticks\": \"\", \"title\": {\"standoff\": 15}, \"zerolinecolor\": \"white\", \"zerolinewidth\": 2}}}, \"title\": {\"text\": \"3D Principal Component Analysis Visualization\"}},\n",
       "                        {\"responsive\": true}\n",
       "                    ).then(function(){\n",
       "                            \n",
       "var gd = document.getElementById('cfb3a8b8-51b4-4d5c-8ee3-012e3d5a19d4');\n",
       "var x = new MutationObserver(function (mutations, observer) {{\n",
       "        var display = window.getComputedStyle(gd).display;\n",
       "        if (!display || display === 'none') {{\n",
       "            console.log([gd, 'removed!']);\n",
       "            Plotly.purge(gd);\n",
       "            observer.disconnect();\n",
       "        }}\n",
       "}});\n",
       "\n",
       "// Listen for the removal of the full notebook cells\n",
       "var notebookContainer = gd.closest('#notebook-container');\n",
       "if (notebookContainer) {{\n",
       "    x.observe(notebookContainer, {childList: true});\n",
       "}}\n",
       "\n",
       "// Listen for the clearing of the current output cell\n",
       "var outputEl = gd.closest('.output');\n",
       "if (outputEl) {{\n",
       "    x.observe(outputEl, {childList: true});\n",
       "}}\n",
       "\n",
       "                        })\n",
       "                };\n",
       "                });\n",
       "            </script>\n",
       "        </div>"
      ]
     },
     "metadata": {},
     "output_type": "display_data"
    },
    {
     "data": {
      "text/plain": [
       "<Figure size 720x720 with 0 Axes>"
      ]
     },
     "metadata": {},
     "output_type": "display_data"
    }
   ],
   "source": [
    "plt.figure(figsize = (10,10))\n",
    "fig = px.scatter_3d(x = pca_3x_score[:, 0], y = pca_3x_score[:, 1],\n",
    "                    z = pca_3x_score[:, 2], text = [str(i+1) for i in range(18)],\n",
    "                    opacity = 0.3, title = '3D Principal Component Analysis Visualization')\n",
    "\n",
    "fig.update_layout(scene = dict(xaxis = dict(showgrid = False, showticklabels = False),\n",
    "                               yaxis = dict(showgrid = False, showticklabels = False),\n",
    "                               zaxis = dict(showgrid = False, showticklabels = False)))\n",
    "fig.show()"
   ]
  },
  {
   "cell_type": "code",
   "execution_count": 33,
   "metadata": {},
   "outputs": [
    {
     "data": {
      "text/plain": [
       "array([[0., 0., 0., 0., 0., 0., 0., 0., 0., 0., 0., 0., 0., 0., 0., 0.,\n",
       "        0., 0.]])"
      ]
     },
     "execution_count": 33,
     "metadata": {},
     "output_type": "execute_result"
    }
   ],
   "source": [
    "pca_3rd = pca_3x_score[:, 2]\n",
    "pca_3rd_scale = MinMaxScaler().fit_transform(pca_3rd.reshape(1, -1))\n",
    "pca_3rd_scale"
   ]
  },
  {
   "cell_type": "code",
   "execution_count": 34,
   "metadata": {},
   "outputs": [
    {
     "data": {
      "text/plain": [
       "array([ 17.47868479, -14.39490922,  19.04852118,  -6.71529511,\n",
       "         5.67250085,  -0.35353556,  -2.89505181, -16.91564313,\n",
       "         1.27040988,  -4.07335231,   6.9178253 ,  -0.51415465,\n",
       "        -1.22833269,  -0.81154768,  22.5403033 ,  -6.9424234 ,\n",
       "       -12.72711699,  -5.35688276])"
      ]
     },
     "execution_count": 34,
     "metadata": {},
     "output_type": "execute_result"
    }
   ],
   "source": [
    "pca_3rd"
   ]
  },
  {
   "cell_type": "code",
   "execution_count": null,
   "metadata": {},
   "outputs": [],
   "source": []
  }
 ],
 "metadata": {
  "kernelspec": {
   "display_name": "ml-deploy",
   "language": "python",
   "name": "ml-deploy"
  },
  "language_info": {
   "codemirror_mode": {
    "name": "ipython",
    "version": 3
   },
   "file_extension": ".py",
   "mimetype": "text/x-python",
   "name": "python",
   "nbconvert_exporter": "python",
   "pygments_lexer": "ipython3",
   "version": "3.11.1"
  },
  "vscode": {
   "interpreter": {
    "hash": "aa018bb2191242c107f603affa8aa72d80269fa9ff3d19c5b282c8e90c6a524e"
   }
  }
 },
 "nbformat": 4,
 "nbformat_minor": 4
}
