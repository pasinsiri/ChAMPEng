{
 "cells": [
  {
   "cell_type": "code",
   "execution_count": 2,
   "metadata": {},
   "outputs": [],
   "source": [
    "import pandas as pd\n",
    "import numpy as np\n",
    "import matplotlib.pyplot as plt\n",
    "import seaborn as sns"
   ]
  },
  {
   "cell_type": "code",
   "execution_count": 3,
   "metadata": {
    "scrolled": true
   },
   "outputs": [
    {
     "data": {
      "text/plain": [
       "['champ1_app',\n",
       " 'champ1_mentee',\n",
       " 'champ1_openhouse',\n",
       " 'champ2_app',\n",
       " 'champ2_mentee',\n",
       " 'champ2_openhouse',\n",
       " 'champ3_app',\n",
       " 'champ3_mentee',\n",
       " 'champ3_openhouse']"
      ]
     },
     "execution_count": 3,
     "metadata": {},
     "output_type": "execute_result"
    }
   ],
   "source": [
    "xl = pd.ExcelFile('Data/alldata.xlsx')\n",
    "xl.sheet_names"
   ]
  },
  {
   "cell_type": "code",
   "execution_count": 45,
   "metadata": {},
   "outputs": [],
   "source": [
    "# Change department name from Thai to English\n",
    "dep_dict = {\n",
    "    'สาขาวิศวกรรมหุ่นยนต์และปัญญาประดิษฐ์ (หลักสูตรนานาชาติ)': 'AI',\n",
    "    'สาขาวิศวกรรมการออกแบบและการผลิตยานยนต์ (หลักสูตรนานาชาติ)': 'ADME',\n",
    "    'สาขาวิศวกรรมอากาศยาน (หลักสูตรนานาชาติ)': 'AERO',\n",
    "    'สาขาวิศวกรรมสารสนเทศและการสื่อสาร(หลักสูตรนานาชาติ)': 'ICE',\n",
    "    'สาขาวิศวกรรมนาโน (หลักสูตรนานาชาติ)': 'NANO',\n",
    "    'ภาควิชาวิศวกรรมสำรวจ': 'Survey',\n",
    "    'ภาควิชาวิศวกรรมเหมืองแร่ และปิโตรเลียม': 'Mining and Petroleum',\n",
    "    'ภาควิชาวิศวกรรมไฟฟ้า': 'Electrical',\n",
    "    'ภาควิชาวิศวกรรมอุตสาหการ': 'IE',\n",
    "    'ภาควิชาวิศวกรรมเครื่องกล': 'Mechanical',\n",
    "    'ภาควิชาวิศวกรรมคอมพิวเตอร์': 'Computer',\n",
    "    'ภาควิชาวิศวกรรมเคมี': 'Chemical',\n",
    "    'ภาควิชาวิศวกรรมโยธา': 'Civil',\n",
    "    'ภาควิชาวิศวกรรมสิ่งแวดล้อม': 'Environmental',\n",
    "    'ภาควิชาวิศวกรรมโลหการ': 'Metallurgical',\n",
    "    'ภาควิชาวิศวกรรมนิวเคลียร์': 'Nucleur'\n",
    "}"
   ]
  },
  {
   "cell_type": "code",
   "execution_count": 3,
   "metadata": {},
   "outputs": [],
   "source": [
    "dfs = dict()\n",
    "for sheet in xl.sheet_names:\n",
    "    dfs[sheet] = xl.parse(sheet_name=sheet)"
   ]
  },
  {
   "cell_type": "markdown",
   "metadata": {},
   "source": [
    "### Question 1: How many rejected candidates were selected as a mentee for a next year program"
   ]
  },
  {
   "cell_type": "code",
   "execution_count": 22,
   "metadata": {},
   "outputs": [],
   "source": [
    "rejected_id_1 = [x for x in dfs['champ1_app']['ID']\n",
    "                 if x not in dfs['champ1_mentee']['ID'] and\n",
    "                 str(x)[:2] in ['59', '60']]"
   ]
  },
  {
   "cell_type": "code",
   "execution_count": 23,
   "metadata": {},
   "outputs": [],
   "source": [
    "success_2_from_1 = [x for x in dfs['champ2_mentee']['ID'] if x in rejected_id_1]"
   ]
  },
  {
   "cell_type": "markdown",
   "metadata": {},
   "source": [
    "<b>Second chance rate</b>: the ratio of candidates who got rejected in ChAMP 1 but got accepted in ChAMP 2 to all ChAMP 1 candidates who got rejected (consider only ChAMP 1 candidates who still have a chance to apply in ChAMP 2)."
   ]
  },
  {
   "cell_type": "code",
   "execution_count": 24,
   "metadata": {},
   "outputs": [
    {
     "name": "stdout",
     "output_type": "stream",
     "text": [
      "Second chance rate = 16.00\n"
     ]
    }
   ],
   "source": [
    "print('Second chance rate = %.2f' % (len(success_2_from_1) / len(rejected_id_1) * 100))"
   ]
  },
  {
   "cell_type": "markdown",
   "metadata": {},
   "source": [
    "<b>Old school rate: </b> the ratio of ChAMP 2 mentees who applied and got rejected in ChAMP 1 to all ChAMP 2 mentees."
   ]
  },
  {
   "cell_type": "code",
   "execution_count": 25,
   "metadata": {},
   "outputs": [
    {
     "name": "stdout",
     "output_type": "stream",
     "text": [
      "Old school rate = 11.11\n"
     ]
    }
   ],
   "source": [
    "print('Old school rate = %.2f' % (len(success_2_from_1) * 100 / 72))"
   ]
  },
  {
   "cell_type": "code",
   "execution_count": 26,
   "metadata": {},
   "outputs": [],
   "source": [
    "rejected_id_2 = [x for x in dfs['champ2_app']['ID']\n",
    "                 if x not in dfs['champ2_mentee']['ID'] and\n",
    "                 str(x)[:2] in ['59', '60', '61']]\n",
    "success_3_from_2 = [x for x in dfs['champ3_mentee']['ID'] if x in rejected_id_2]"
   ]
  },
  {
   "cell_type": "code",
   "execution_count": 27,
   "metadata": {},
   "outputs": [
    {
     "name": "stdout",
     "output_type": "stream",
     "text": [
      "Second chance rate (ChAMP 3) = 9.09\n"
     ]
    }
   ],
   "source": [
    "print('Second chance rate (ChAMP 3) = %.2f' % (len(success_3_from_2) / len(rejected_id_2) * 100))"
   ]
  },
  {
   "cell_type": "code",
   "execution_count": 28,
   "metadata": {},
   "outputs": [
    {
     "name": "stdout",
     "output_type": "stream",
     "text": [
      "Old school rate = 28.77\n"
     ]
    }
   ],
   "source": [
    "print('Old school rate = %.2f' % (len(success_3_from_2) * 100 / 73))\n",
    "# champ 3 has 73 mentees"
   ]
  },
  {
   "cell_type": "markdown",
   "metadata": {},
   "source": [
    "# ChAMP #3 Mentee Analysis"
   ]
  },
  {
   "cell_type": "code",
   "execution_count": 109,
   "metadata": {},
   "outputs": [],
   "source": [
    "mentee3 = dfs['champ3_mentee']"
   ]
  },
  {
   "cell_type": "code",
   "execution_count": 110,
   "metadata": {},
   "outputs": [],
   "source": [
    "# Mentee's Department Distribution\n",
    "count_mentee = mentee3[['ID', 'Department']].groupby('Department').count()\n",
    "count_mentee.columns = ['Number of Mentee']\n",
    "\n",
    "# Candidate's Success Rate\n",
    "count_cand = dfs['champ3_app'][['Department', 'ID']].groupby('Department').count()"
   ]
  },
  {
   "cell_type": "code",
   "execution_count": 111,
   "metadata": {},
   "outputs": [],
   "source": [
    "count_mentee['Number of Candidates'] = count_cand\n",
    "count_mentee['Success Rate (%)'] = ((count_mentee['Number of Mentee'] * 100 / count_mentee['Number of Candidates']) * 100 // 1) / 100"
   ]
  },
  {
   "cell_type": "code",
   "execution_count": 112,
   "metadata": {},
   "outputs": [],
   "source": [
    "mentee3_ratio = count_mentee.sort_values(by = 'Success Rate (%)', ascending = False)\n",
    "mentee3_ratio.index = mentee3_ratio.index.map(dep_dict)"
   ]
  },
  {
   "cell_type": "markdown",
   "metadata": {},
   "source": [
    "# ChAMP #2 Mentee Analysis"
   ]
  },
  {
   "cell_type": "code",
   "execution_count": 121,
   "metadata": {},
   "outputs": [],
   "source": [
    "mentee2 = dfs['champ2_mentee']\n",
    "\n",
    "# Dep. Dist.\n",
    "count_mentee = mentee2[['ID', 'Department']].groupby('Department').count()\n",
    "count_mentee.columns = ['Number of Mentee']\n",
    "\n",
    "# Success Rate\n",
    "count_cand = dfs['champ2_app'][['Department', 'ID']].groupby('Department').count()\n",
    "\n",
    "count_mentee['Number of Candidates'] = count_cand\n",
    "count_mentee['Success Rate (%)'] = ((count_mentee['Number of Mentee'] * 100 / count_mentee['Number of Candidates']) * 100 // 1) / 100\n",
    "\n",
    "mentee2_ratio = count_mentee.sort_values(by = 'Success Rate (%)', ascending = False)\n",
    "mentee2_ratio.index = mentee2_ratio.index.map(dep_dict)"
   ]
  },
  {
   "cell_type": "markdown",
   "metadata": {},
   "source": [
    "## Stacked Bar Chart using Seaborn"
   ]
  },
  {
   "cell_type": "code",
   "execution_count": 141,
   "metadata": {},
   "outputs": [
    {
     "data": {
      "image/png": "[encoded data removed]",
      "text/plain": [
       "<Figure size 864x864 with 2 Axes>"
      ]
     },
     "metadata": {
      "needs_background": "light"
     },
     "output_type": "display_data"
    }
   ],
   "source": [
    "fig, (ax1, ax2) = plt.subplots(nrows = 2, figsize = (12, 12))\n",
    "fig.tight_layout(pad = 8.0)\n",
    "fig.suptitle('Application Demographics and Success Ratio')\n",
    "\n",
    "mentee2_ratio.sort_values(by = 'Number of Candidates', ascending = False, inplace = True)\n",
    "mentee3_ratio.sort_values(by = 'Number of Candidates', ascending = False, inplace = True)\n",
    "\n",
    "mentee2_ratio['diff'] = mentee2_ratio['Number of Candidates'] - mentee2_ratio['Number of Mentee']\n",
    "mentee3_ratio['diff'] = mentee3_ratio['Number of Candidates'] - mentee3_ratio['Number of Mentee']\n",
    "\n",
    "ax1.bar(mentee2_ratio.index, mentee2_ratio['Number of Mentee'], label = 'Number of Mentees')\n",
    "ax1.bar(mentee2_ratio.index, mentee2_ratio['diff'], bottom = mentee2_ratio['Number of Mentee'], label = 'Number of Candidates')\n",
    "ax1.set_title('ChAMP 2')\n",
    "ax1.set_ylabel('Count')\n",
    "ax1.legend()\n",
    "ax1.tick_params(labelrotation = 45)\n",
    "\n",
    "ax2.bar(mentee3_ratio.index, mentee3_ratio['Number of Mentee'], label = 'Number of Mentees')\n",
    "ax2.bar(mentee3_ratio.index, mentee3_ratio['diff'], bottom = mentee3_ratio['Number of Mentee'], label = 'Number of Candidates')\n",
    "ax2.set_title('ChAMP 3')\n",
    "ax2.legend()\n",
    "ax2.set_ylabel('Count')\n",
    "ax2.tick_params(labelrotation = 45)"
   ]
  },
  {
   "cell_type": "code",
   "execution_count": 115,
   "metadata": {},
   "outputs": [
    {
     "data": {
      "text/html": [
       "<div>\n",
       "<style scoped>\n",
       "    .dataframe tbody tr th:only-of-type {\n",
       "        vertical-align: middle;\n",
       "    }\n",
       "\n",
       "    .dataframe tbody tr th {\n",
       "        vertical-align: top;\n",
       "    }\n",
       "\n",
       "    .dataframe thead th {\n",
       "        text-align: right;\n",
       "    }\n",
       "</style>\n",
       "<table border=\"1\" class=\"dataframe\">\n",
       "  <thead>\n",
       "    <tr style=\"text-align: right;\">\n",
       "      <th></th>\n",
       "      <th>Number of Mentee</th>\n",
       "      <th>Number of Candidates</th>\n",
       "      <th>Success Rate (%)</th>\n",
       "      <th>diff</th>\n",
       "    </tr>\n",
       "    <tr>\n",
       "      <th>Department</th>\n",
       "      <th></th>\n",
       "      <th></th>\n",
       "      <th></th>\n",
       "      <th></th>\n",
       "    </tr>\n",
       "  </thead>\n",
       "  <tbody>\n",
       "    <tr>\n",
       "      <th>ICE</th>\n",
       "      <td>14</td>\n",
       "      <td>36</td>\n",
       "      <td>38.88</td>\n",
       "      <td>22</td>\n",
       "    </tr>\n",
       "    <tr>\n",
       "      <th>IE</th>\n",
       "      <td>12</td>\n",
       "      <td>28</td>\n",
       "      <td>42.85</td>\n",
       "      <td>16</td>\n",
       "    </tr>\n",
       "    <tr>\n",
       "      <th>Chemical</th>\n",
       "      <td>6</td>\n",
       "      <td>21</td>\n",
       "      <td>28.57</td>\n",
       "      <td>15</td>\n",
       "    </tr>\n",
       "    <tr>\n",
       "      <th>Civil</th>\n",
       "      <td>3</td>\n",
       "      <td>21</td>\n",
       "      <td>14.28</td>\n",
       "      <td>18</td>\n",
       "    </tr>\n",
       "    <tr>\n",
       "      <th>Mechanical</th>\n",
       "      <td>4</td>\n",
       "      <td>19</td>\n",
       "      <td>21.05</td>\n",
       "      <td>15</td>\n",
       "    </tr>\n",
       "    <tr>\n",
       "      <th>ADME</th>\n",
       "      <td>7</td>\n",
       "      <td>18</td>\n",
       "      <td>38.88</td>\n",
       "      <td>11</td>\n",
       "    </tr>\n",
       "    <tr>\n",
       "      <th>AERO</th>\n",
       "      <td>8</td>\n",
       "      <td>17</td>\n",
       "      <td>47.05</td>\n",
       "      <td>9</td>\n",
       "    </tr>\n",
       "    <tr>\n",
       "      <th>Computer</th>\n",
       "      <td>1</td>\n",
       "      <td>13</td>\n",
       "      <td>7.69</td>\n",
       "      <td>12</td>\n",
       "    </tr>\n",
       "    <tr>\n",
       "      <th>Survey</th>\n",
       "      <td>3</td>\n",
       "      <td>11</td>\n",
       "      <td>27.27</td>\n",
       "      <td>8</td>\n",
       "    </tr>\n",
       "    <tr>\n",
       "      <th>Electrical</th>\n",
       "      <td>3</td>\n",
       "      <td>11</td>\n",
       "      <td>27.27</td>\n",
       "      <td>8</td>\n",
       "    </tr>\n",
       "    <tr>\n",
       "      <th>NANO</th>\n",
       "      <td>5</td>\n",
       "      <td>10</td>\n",
       "      <td>50.00</td>\n",
       "      <td>5</td>\n",
       "    </tr>\n",
       "    <tr>\n",
       "      <th>Environmental</th>\n",
       "      <td>3</td>\n",
       "      <td>7</td>\n",
       "      <td>42.85</td>\n",
       "      <td>4</td>\n",
       "    </tr>\n",
       "    <tr>\n",
       "      <th>AI</th>\n",
       "      <td>2</td>\n",
       "      <td>4</td>\n",
       "      <td>50.00</td>\n",
       "      <td>2</td>\n",
       "    </tr>\n",
       "    <tr>\n",
       "      <th>Metallurgical</th>\n",
       "      <td>1</td>\n",
       "      <td>4</td>\n",
       "      <td>25.00</td>\n",
       "      <td>3</td>\n",
       "    </tr>\n",
       "    <tr>\n",
       "      <th>Mining and Petroleum</th>\n",
       "      <td>1</td>\n",
       "      <td>2</td>\n",
       "      <td>50.00</td>\n",
       "      <td>1</td>\n",
       "    </tr>\n",
       "  </tbody>\n",
       "</table>\n",
       "</div>"
      ],
      "text/plain": [
       "                      Number of Mentee  Number of Candidates  \\\n",
       "Department                                                     \n",
       "ICE                                 14                    36   \n",
       "IE                                  12                    28   \n",
       "Chemical                             6                    21   \n",
       "Civil                                3                    21   \n",
       "Mechanical                           4                    19   \n",
       "ADME                                 7                    18   \n",
       "AERO                                 8                    17   \n",
       "Computer                             1                    13   \n",
       "Survey                               3                    11   \n",
       "Electrical                           3                    11   \n",
       "NANO                                 5                    10   \n",
       "Environmental                        3                     7   \n",
       "AI                                   2                     4   \n",
       "Metallurgical                        1                     4   \n",
       "Mining and Petroleum                 1                     2   \n",
       "\n",
       "                      Success Rate (%)  diff  \n",
       "Department                                    \n",
       "ICE                              38.88    22  \n",
       "IE                               42.85    16  \n",
       "Chemical                         28.57    15  \n",
       "Civil                            14.28    18  \n",
       "Mechanical                       21.05    15  \n",
       "ADME                             38.88    11  \n",
       "AERO                             47.05     9  \n",
       "Computer                          7.69    12  \n",
       "Survey                           27.27     8  \n",
       "Electrical                       27.27     8  \n",
       "NANO                             50.00     5  \n",
       "Environmental                    42.85     4  \n",
       "AI                               50.00     2  \n",
       "Metallurgical                    25.00     3  \n",
       "Mining and Petroleum             50.00     1  "
      ]
     },
     "execution_count": 115,
     "metadata": {},
     "output_type": "execute_result"
    }
   ],
   "source": [
    "mentee3_ratio"
   ]
  },
  {
   "cell_type": "code",
   "execution_count": null,
   "metadata": {},
   "outputs": [],
   "source": []
  }
 ],
 "metadata": {
  "kernelspec": {
   "display_name": "Python 3",
   "language": "python",
   "name": "python3"
  },
  "language_info": {
   "codemirror_mode": {
    "name": "ipython",
    "version": 3
   },
   "file_extension": ".py",
   "mimetype": "text/x-python",
   "name": "python",
   "nbconvert_exporter": "python",
   "pygments_lexer": "ipython3",
   "version": "3.7.6"
  }
 },
 "nbformat": 4,
 "nbformat_minor": 4
}
