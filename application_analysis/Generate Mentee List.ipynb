{
 "cells": [
  {
   "cell_type": "code",
   "execution_count": 1,
   "metadata": {},
   "outputs": [],
   "source": [
    "import pandas as pd\n",
    "import numpy as np"
   ]
  },
  {
   "cell_type": "code",
   "execution_count": 2,
   "metadata": {},
   "outputs": [],
   "source": [
    "xl = pd.ExcelFile('Data/alldata_new.xlsx')"
   ]
  },
  {
   "cell_type": "code",
   "execution_count": 3,
   "metadata": {},
   "outputs": [],
   "source": [
    "dfs = dict()\n",
    "for sheet in xl.sheet_names:\n",
    "    dfs[sheet] = xl.parse(sheet_name=sheet)"
   ]
  },
  {
   "cell_type": "code",
   "execution_count": 4,
   "metadata": {},
   "outputs": [],
   "source": [
    "# Lookup ID from mentee sheet into application sheet\n",
    "# to get mentee's name (column Name-Surname and Nickname)\n",
    "mentee_dict = dict()\n",
    "for i in [1, 2, 3]:\n",
    "    app_sheet_name = 'champ{}_app'.format(str(i))\n",
    "    mentee_sheet_name = 'champ{}_mentee'.format(str(i))\n",
    "    app_sheet = dfs[app_sheet_name]\n",
    "    mentee = dfs[mentee_sheet_name]['ID']\n",
    "    \n",
    "    app = app_sheet[['ID', 'Name-Surname', 'Nickname']]\n",
    "    app_filter = app[app['ID'].isin(mentee.tolist())]\n",
    "    mentee_dict[mentee_sheet_name] = app_filter.reset_index(drop = True)"
   ]
  },
  {
   "cell_type": "code",
   "execution_count": 5,
   "metadata": {},
   "outputs": [],
   "source": [
    "final_df = pd.concat([dfs['champ1_mentee'], mentee_dict['champ2_mentee'], \n",
    "                      mentee_dict['champ3_mentee']])"
   ]
  },
  {
   "cell_type": "code",
   "execution_count": 21,
   "metadata": {},
   "outputs": [
    {
     "data": {
      "text/plain": [
       "10"
      ]
     },
     "execution_count": 21,
     "metadata": {},
     "output_type": "execute_result"
    }
   ],
   "source": [
    "# Fix those missing IDs in mentee_dict['champ3_mentee']\n",
    "dfs['champ3_mentee'].ID.apply(lambda x: len(str(x))).max()"
   ]
  },
  {
   "cell_type": "code",
   "execution_count": 22,
   "metadata": {},
   "outputs": [],
   "source": [
    "final_first2 = pd.concat([dfs['champ1_mentee'], mentee_dict['champ2_mentee']])"
   ]
  },
  {
   "cell_type": "code",
   "execution_count": 24,
   "metadata": {},
   "outputs": [],
   "source": [
    "final_first2.to_csv('Data/final_first2.csv', index = False, encoding = 'utf-8')"
   ]
  },
  {
   "cell_type": "code",
   "execution_count": null,
   "metadata": {},
   "outputs": [],
   "source": []
  }
 ],
 "metadata": {
  "kernelspec": {
   "display_name": "Python 3",
   "language": "python",
   "name": "python3"
  },
  "language_info": {
   "codemirror_mode": {
    "name": "ipython",
    "version": 3
   },
   "file_extension": ".py",
   "mimetype": "text/x-python",
   "name": "python",
   "nbconvert_exporter": "python",
   "pygments_lexer": "ipython3",
   "version": "3.7.6"
  }
 },
 "nbformat": 4,
 "nbformat_minor": 4
}
